{
 "cells": [
  {
   "cell_type": "markdown",
   "id": "1e077fec",
   "metadata": {},
   "source": [
    "# 데이터 스케일링"
   ]
  },
  {
   "cell_type": "markdown",
   "id": "a43d379a",
   "metadata": {},
   "source": [
    "## 데이터 불러오기"
   ]
  },
  {
   "cell_type": "code",
   "execution_count": 1,
   "id": "be86ff55",
   "metadata": {},
   "outputs": [],
   "source": [
    "import pandas as pd\n",
    "import numpy as np\n",
    "import warnings\n",
    "warnings.filterwarnings('ignore')\n",
    "\n",
    "data=pd.read_csv('D:\\Machine Learning\\ADP-master\\data/bikeshare.csv')\n",
    "\n",
    "# type별로 컬럼 분류\n",
    "col_id = []\n",
    "col_dt = ['datetime']\n",
    "col_cat = ['season']\n",
    "col_int = ['weather', 'humidity','casual','registered','count']\n",
    "col_float = ['temp','atemp','windspeed']\n",
    "col_bool = ['holiday','workingday']\n",
    "\n",
    "col_num = col_int + col_float\n",
    "data['datetime'] = pd.to_datetime(data['datetime'])\n",
    "data[col_cat]= data[col_cat].astype('str')\n",
    "data[col_int] = data[col_int].astype('int', errors='ignore')\n",
    "data[col_float] = data[col_float].astype('float')\n",
    "\n",
    "data.head()\n",
    "X_data=data[['holiday', 'workingday', 'weather', 'temp', 'atemp', 'humidity', 'windspeed', 'casual', 'registered']]\n",
    "Y_data=data[['count']]                                 # 참고 : X_data=DF.drop(['종속변수'].axis=1, inplace=False)"
   ]
  },
  {
   "cell_type": "code",
   "execution_count": 2,
   "id": "f40fcec2",
   "metadata": {},
   "outputs": [
    {
     "data": {
      "text/html": [
       "<div>\n",
       "<style scoped>\n",
       "    .dataframe tbody tr th:only-of-type {\n",
       "        vertical-align: middle;\n",
       "    }\n",
       "\n",
       "    .dataframe tbody tr th {\n",
       "        vertical-align: top;\n",
       "    }\n",
       "\n",
       "    .dataframe thead th {\n",
       "        text-align: right;\n",
       "    }\n",
       "</style>\n",
       "<table border=\"1\" class=\"dataframe\">\n",
       "  <thead>\n",
       "    <tr style=\"text-align: right;\">\n",
       "      <th></th>\n",
       "      <th>holiday</th>\n",
       "      <th>workingday</th>\n",
       "      <th>weather</th>\n",
       "      <th>temp</th>\n",
       "      <th>atemp</th>\n",
       "      <th>humidity</th>\n",
       "      <th>windspeed</th>\n",
       "      <th>casual</th>\n",
       "      <th>registered</th>\n",
       "    </tr>\n",
       "  </thead>\n",
       "  <tbody>\n",
       "    <tr>\n",
       "      <th>0</th>\n",
       "      <td>0</td>\n",
       "      <td>0</td>\n",
       "      <td>1</td>\n",
       "      <td>9.84</td>\n",
       "      <td>14.395</td>\n",
       "      <td>81</td>\n",
       "      <td>0.0</td>\n",
       "      <td>3</td>\n",
       "      <td>13</td>\n",
       "    </tr>\n",
       "    <tr>\n",
       "      <th>1</th>\n",
       "      <td>0</td>\n",
       "      <td>0</td>\n",
       "      <td>1</td>\n",
       "      <td>9.02</td>\n",
       "      <td>13.635</td>\n",
       "      <td>80</td>\n",
       "      <td>0.0</td>\n",
       "      <td>8</td>\n",
       "      <td>32</td>\n",
       "    </tr>\n",
       "    <tr>\n",
       "      <th>2</th>\n",
       "      <td>0</td>\n",
       "      <td>0</td>\n",
       "      <td>1</td>\n",
       "      <td>9.02</td>\n",
       "      <td>13.635</td>\n",
       "      <td>80</td>\n",
       "      <td>0.0</td>\n",
       "      <td>5</td>\n",
       "      <td>27</td>\n",
       "    </tr>\n",
       "    <tr>\n",
       "      <th>3</th>\n",
       "      <td>0</td>\n",
       "      <td>0</td>\n",
       "      <td>1</td>\n",
       "      <td>9.84</td>\n",
       "      <td>14.395</td>\n",
       "      <td>75</td>\n",
       "      <td>0.0</td>\n",
       "      <td>3</td>\n",
       "      <td>10</td>\n",
       "    </tr>\n",
       "    <tr>\n",
       "      <th>4</th>\n",
       "      <td>0</td>\n",
       "      <td>0</td>\n",
       "      <td>1</td>\n",
       "      <td>9.84</td>\n",
       "      <td>14.395</td>\n",
       "      <td>75</td>\n",
       "      <td>0.0</td>\n",
       "      <td>0</td>\n",
       "      <td>1</td>\n",
       "    </tr>\n",
       "  </tbody>\n",
       "</table>\n",
       "</div>"
      ],
      "text/plain": [
       "   holiday  workingday  weather  temp   atemp  humidity  windspeed  casual  \\\n",
       "0        0           0        1  9.84  14.395        81        0.0       3   \n",
       "1        0           0        1  9.02  13.635        80        0.0       8   \n",
       "2        0           0        1  9.02  13.635        80        0.0       5   \n",
       "3        0           0        1  9.84  14.395        75        0.0       3   \n",
       "4        0           0        1  9.84  14.395        75        0.0       0   \n",
       "\n",
       "   registered  \n",
       "0          13  \n",
       "1          32  \n",
       "2          27  \n",
       "3          10  \n",
       "4           1  "
      ]
     },
     "execution_count": 2,
     "metadata": {},
     "output_type": "execute_result"
    }
   ],
   "source": [
    "X_data.head()"
   ]
  },
  {
   "cell_type": "code",
   "execution_count": 3,
   "id": "68c2284b",
   "metadata": {},
   "outputs": [
    {
     "data": {
      "text/html": [
       "<div>\n",
       "<style scoped>\n",
       "    .dataframe tbody tr th:only-of-type {\n",
       "        vertical-align: middle;\n",
       "    }\n",
       "\n",
       "    .dataframe tbody tr th {\n",
       "        vertical-align: top;\n",
       "    }\n",
       "\n",
       "    .dataframe thead th {\n",
       "        text-align: right;\n",
       "    }\n",
       "</style>\n",
       "<table border=\"1\" class=\"dataframe\">\n",
       "  <thead>\n",
       "    <tr style=\"text-align: right;\">\n",
       "      <th></th>\n",
       "      <th>count</th>\n",
       "    </tr>\n",
       "  </thead>\n",
       "  <tbody>\n",
       "    <tr>\n",
       "      <th>0</th>\n",
       "      <td>16</td>\n",
       "    </tr>\n",
       "    <tr>\n",
       "      <th>1</th>\n",
       "      <td>40</td>\n",
       "    </tr>\n",
       "    <tr>\n",
       "      <th>2</th>\n",
       "      <td>32</td>\n",
       "    </tr>\n",
       "    <tr>\n",
       "      <th>3</th>\n",
       "      <td>13</td>\n",
       "    </tr>\n",
       "    <tr>\n",
       "      <th>4</th>\n",
       "      <td>1</td>\n",
       "    </tr>\n",
       "  </tbody>\n",
       "</table>\n",
       "</div>"
      ],
      "text/plain": [
       "   count\n",
       "0     16\n",
       "1     40\n",
       "2     32\n",
       "3     13\n",
       "4      1"
      ]
     },
     "execution_count": 3,
     "metadata": {},
     "output_type": "execute_result"
    }
   ],
   "source": [
    "Y_data.head()"
   ]
  },
  {
   "cell_type": "markdown",
   "id": "c3c58dfc",
   "metadata": {},
   "source": [
    "# 정규화, 표준화"
   ]
  },
  {
   "cell_type": "code",
   "execution_count": 34,
   "id": "54a9c612",
   "metadata": {},
   "outputs": [],
   "source": [
    "from sklearn.preprocessing import StandardScaler, MinMaxScaler, PolynomialFeatures\n",
    "\n",
    "def get_scaled_data(method='None', p_degree=None, input_data=None):\n",
    "    if method=='Standard':\n",
    "        scaled_data=StandardScaler().fit_transform(input_data)\n",
    "    elif method== 'MinMax':\n",
    "        scaled_data=MinMaxScaler().fit_transform(input_data)\n",
    "    elif method == 'Log':\n",
    "        scaled_data=np.log1p(input_data)\n",
    "    else:\n",
    "        scaled_data=input_data\n",
    "    if p_degree != None :\n",
    "        scaled_data=PolynomialFeatures(degree=p_degree, include_bias=False).fit_transform(scaled_data)\n",
    "    return scaled_data"
   ]
  },
  {
   "cell_type": "markdown",
   "id": "96a28e0c",
   "metadata": {},
   "source": [
    "# 차원 축소\n",
    "\n",
    "## Feature Selection\n",
    " - Filter-based-method : information grain, chi-square test, fisher score, correlation coefficient, variance threshold\n",
    " - Wrapper-based-method : Forward seleciotn, Backward elimination, Recursive feature elimination, Stepwise selection\n",
    " - Embeded method : Lasso, Ridge\n",
    " \n",
    "## Feature Extraction\n",
    " - Linear method : PCA, LCA\n",
    " - Non-Linear method : AE, t-SNE"
   ]
  },
  {
   "cell_type": "code",
   "execution_count": 5,
   "id": "0ddf6516",
   "metadata": {},
   "outputs": [
    {
     "name": "stdout",
     "output_type": "stream",
     "text": [
      "X_data: (10886, 9), X_reduced_Var: (10886, 8), X_reduced_KB:(10886, 5)\n",
      "X_reduced_lr: (10886, 9), X_reduced_rf: (10886, 6)\n",
      "#### X_data ##### \n",
      "    holiday  workingday  weather  temp   atemp  humidity  windspeed  casual  \\\n",
      "0        0           0        1  9.84  14.395        81        0.0       3   \n",
      "1        0           0        1  9.02  13.635        80        0.0       8   \n",
      "\n",
      "   registered  \n",
      "0          13  \n",
      "1          32  \n",
      "#### X_reduced_Var #### \n",
      " [[ 0.     1.     9.84  14.395 81.     0.     3.    13.   ]\n",
      " [ 0.     1.     9.02  13.635 80.     0.     8.    32.   ]]\n",
      "#### X_reduced_Chi #### \n",
      " [[ 9.84  14.395 81.     3.    13.   ]\n",
      " [ 9.02  13.635 80.     8.    32.   ]]\n",
      "selector_Chi.scores_: \n",
      " [6.81355480e+02 3.20135759e+02 2.34265530e+02 8.17418862e+03\n",
      " 8.15250147e+03 1.22860675e+04 5.28275691e+03 4.62518232e+05\n",
      " 1.52880232e+06]\n",
      "selector_Chi.pvalues_ : \n",
      " [0.99986728 1.         1.         0.         0.         0.\n",
      " 0.         0.         0.        ]\n",
      "#### X_reduced_lr #### \n",
      " [[ 0.     0.     1.     9.84  14.395 81.     0.     3.    13.   ]\n",
      " [ 0.     0.     1.     9.02  13.635 80.     0.     8.    32.   ]]\n",
      "#### X_reduced_rf #### \n",
      " [[ 9.84  14.395 81.     0.     3.    13.   ]\n",
      " [ 9.02  13.635 80.     0.     8.    32.   ]]\n"
     ]
    }
   ],
   "source": [
    "from sklearn.feature_selection import VarianceThreshold, SelectKBest, chi2, SelectFromModel\n",
    "from sklearn.linear_model import LogisticRegression #SelectFromModel을 위해\n",
    "from sklearn.ensemble import RandomForestClassifier #SelectFromModel을 위해\n",
    "\n",
    "lr=LogisticRegression(penalty='l2', C=0.05)\n",
    "lr.fit(X_data, Y_data)\n",
    "rf=RandomForestClassifier(n_estimators=20, max_features='auto')\n",
    "rf.fit(X_data, Y_data)\n",
    "\n",
    "selector_Var=VarianceThreshold(threshold=0.2)  #VarianceThreshold     ex) threshold=0 : 모든 값이 같은 변수가 제거\n",
    "selector_Chi=SelectKBest(chi2, k=5) #Chi-squared based feature selection  (5개변수만 선정)\n",
    "selector_lr=SelectFromModel(estimator=lr, threshold=0.00001, prefit=True) #SelectFromModel\n",
    "selector_rf=SelectFromModel(estimator=rf, threshold=0.1, prefit=True)\n",
    "\n",
    "X_reduced_Var=selector_Var.fit_transform(X_data) #Var, KB는 fit_transform\n",
    "X_reduced_Chi=selector_Chi.fit_transform(X_data, Y_data)\n",
    "X_reduced_lr=selector_lr.transform(X_data) #SelectFromModel은 fit한 모델로 selector를 만들었기 때문에 transform만 함\n",
    "X_reduced_rf=selector_rf.transform(X_data)\n",
    "\n",
    "\n",
    "print('X_data: {0}, X_reduced_Var: {1}, X_reduced_KB:{2}'.format(X_data.shape, X_reduced_Var.shape,  X_reduced_Chi.shape))\n",
    "print('X_reduced_lr: {0}, X_reduced_rf: {1}'.format(X_reduced_lr.shape,  X_reduced_rf.shape))\n",
    "\n",
    "print('#### X_data ##### \\n', X_data.head(2)) #type(X_data) : DataFrame\n",
    "print('#### X_reduced_Var #### \\n', X_reduced_Var[0:2, :]) #type(X_reduced) : ndarray\n",
    "print('#### X_reduced_Chi #### \\n', X_reduced_Chi[0:2, :]) \n",
    "print('selector_Chi.scores_: \\n', selector_Chi.scores_)\n",
    "print('selector_Chi.pvalues_ : \\n',selector_Chi.pvalues_)\n",
    "print('#### X_reduced_lr #### \\n', X_reduced_lr[0:2, :]) \n",
    "print('#### X_reduced_rf #### \\n', X_reduced_rf[0:2, :]) "
   ]
  },
  {
   "cell_type": "code",
   "execution_count": null,
   "id": "7a4e7705",
   "metadata": {},
   "outputs": [],
   "source": []
  },
  {
   "cell_type": "code",
   "execution_count": null,
   "id": "bc0db86e",
   "metadata": {},
   "outputs": [],
   "source": []
  },
  {
   "cell_type": "markdown",
   "id": "c6bea7dd",
   "metadata": {},
   "source": [
    "###### Recursive feature elimination (RFE)"
   ]
  },
  {
   "cell_type": "code",
   "execution_count": 32,
   "id": "b40f2a3a",
   "metadata": {},
   "outputs": [],
   "source": [
    "from sklearn.feature_selection import RFECV\n",
    "from sklearn import svm #서포트벡터머신\n",
    "from sklearn.model_selection import StratifiedKFold"
   ]
  },
  {
   "cell_type": "code",
   "execution_count": null,
   "id": "cd7749fe",
   "metadata": {},
   "outputs": [
    {
     "name": "stdout",
     "output_type": "stream",
     "text": [
      "Fitting estimator with 9 features.\n",
      "Fitting estimator with 8 features.\n",
      "Fitting estimator with 7 features.\n",
      "Fitting estimator with 6 features.\n",
      "Fitting estimator with 5 features.\n",
      "Fitting estimator with 4 features.\n",
      "Fitting estimator with 3 features.\n",
      "Fitting estimator with 2 features.\n",
      "Fitting estimator with 9 features.\n",
      "Fitting estimator with 8 features.\n",
      "Fitting estimator with 7 features.\n",
      "Fitting estimator with 6 features.\n",
      "Fitting estimator with 5 features.\n",
      "Fitting estimator with 4 features.\n",
      "Fitting estimator with 3 features.\n",
      "Fitting estimator with 2 features.\n",
      "Fitting estimator with 9 features.\n"
     ]
    }
   ],
   "source": [
    "svc=svm.SVC(kernel='linear')\n",
    "rfecv=RFECV(estimator=svc, step=1, cv=StratifiedKFold(n_splits=2), scoring='accuracy', verbose=1)\n",
    "rfecv.fit(X_data, Y_data)\n",
    "print(rfecv.n_features_)\n",
    "print(rfecv.support_)"
   ]
  },
  {
   "cell_type": "code",
   "execution_count": null,
   "id": "4f6b39d7",
   "metadata": {},
   "outputs": [],
   "source": []
  },
  {
   "cell_type": "code",
   "execution_count": null,
   "id": "b9d0b45e",
   "metadata": {},
   "outputs": [],
   "source": [
    "from sklearn.linear_model import Ridge\n",
    "from sklearn.model_selection import cross_val_score\n",
    "import matplotlib.pyplot as plt\n",
    "import seaborn as sns\n",
    "\n",
    "alphas=[0, 0.1, 1, 10, 100]\n",
    "for alpha in alphas:\n",
    "    ridge=Ridge(alpha=alpha)\n",
    "    neg_mse_scores=cross_val_score(ridge, X_data, Y_data, scoring='neg_mean_squared_error', cv=5)\n",
    "    avg_rmse=np.mean(np.sqrt(-1*neg_mse_scores))\n",
    "    print('alpha{0}일 때 5folds의 평균 rmse: {1:.3f}'.format(alpha, avg_rmse))\n",
    "\n",
    "fig, axs=plt.subplots(figsize=(18,6), nrows=1, ncols=5)\n",
    "coeff_df=pd.DataFrame() #값이 비어있는 coeff_df 라는 DataFrame 생성\n",
    "\n",
    "for pos, alpha in enumerate(alphas):\n",
    "    ridge=Ridge(alpha=alpha)\n",
    "    ridge.fit(X_data, Y_data)\n",
    "    coeff=pd.Series(data=ridge.coef_[0], index=X_data.columns)\n",
    "    colname='alpha:'+str(alpha)\n",
    "    coeff_df[colname]=coeff\n",
    "    coeff=coeff.sort_values(ascending=False)\n",
    "    axs[pos].set_title(colname)\n",
    "    axs[pos].set_xlim(-3,6)\n",
    "    sns.barplot (x=coeff.values, y=coeff.index, ax=axs[pos])\n",
    "plt.show()"
   ]
  },
  {
   "cell_type": "code",
   "execution_count": null,
   "id": "0b9698c2",
   "metadata": {},
   "outputs": [],
   "source": [
    "ridge_alphas=[0, 0.1, 1, 10, 100]\n",
    "sort_column='alpha:'+str(ridge_alphas[0])\n",
    "coeff_df.sort_values(by=sort_column, ascending=False)"
   ]
  },
  {
   "cell_type": "code",
   "execution_count": null,
   "id": "46457817",
   "metadata": {},
   "outputs": [],
   "source": [
    "from sklearn.linear_model import Lasso, ElasticNet\n",
    "\n",
    "def get_linear_reg_eval (model_name, params=None, X_data_n=None, y_target_n=None, verbose=True):\n",
    "    coeff_df=pd.DataFrame()\n",
    "    if verbose:\n",
    "        print('####', model_name, '####')\n",
    "    for param in params:\n",
    "        if model_name=='Ridge':\n",
    "            model=Ridge(alpha=param)\n",
    "        elif model_name=='Lasso':\n",
    "            model=Lasso(alpha=param)\n",
    "        elif model_name=='ElasticNet':\n",
    "            model=ElasticNet(alpha=param, l1_ratio=0.7)\n",
    "        neg_mse_scores=cross_val_score(ridge, X_data, Y_data, scoring='neg_mean_squared_error', cv=5)\n",
    "        avg_rmse=np.mean(np.sqrt(-1*neg_mse_scores))\n",
    "        print('alpha{0}일 때 5folds의 평균 rmse: {1:.3f}'.format(param, avg_rmse))\n",
    "        model.fit(X_data, Y_data)\n",
    "        coeff=pd.Series(data=model.coef_, index=X_data.columns)\n",
    "        colname='alpha:'+str(param)\n",
    "        coeff_df[colname]=coeff\n",
    "    return coeff_df"
   ]
  },
  {
   "cell_type": "code",
   "execution_count": null,
   "id": "988ba3b5",
   "metadata": {},
   "outputs": [],
   "source": [
    "lasso_alphas=[0.07, 0.1, 0.5, 1.3]\n",
    "coeff_lasso_df=get_linear_reg_eval('Lasso', params=lasso_alphas, X_data_n=X_data, y_target_n=Y_data)\n",
    "sort_column='alpha:'+str(lasso_alphas[0])\n",
    "coeff_lasso_df.sort_values(by=sort_column, ascending=False)"
   ]
  },
  {
   "cell_type": "code",
   "execution_count": null,
   "id": "fb563665",
   "metadata": {},
   "outputs": [],
   "source": [
    "elastic_alphas=[0.07, 0.1, 0.5, 1.3]\n",
    "coeff_elastic_df=get_linear_reg_eval('ElasticNet', params=elastic_alphas, X_data_n=X_data, y_target_n=Y_data)\n",
    "sort_column='alpha:'+str(elastic_alphas[0])\n",
    "coeff_elastic_df.sort_values(by=sort_column, ascending=False)"
   ]
  },
  {
   "cell_type": "code",
   "execution_count": null,
   "id": "1ab56c57",
   "metadata": {},
   "outputs": [],
   "source": []
  },
  {
   "cell_type": "code",
   "execution_count": null,
   "id": "d8337810",
   "metadata": {},
   "outputs": [],
   "source": []
  },
  {
   "cell_type": "code",
   "execution_count": null,
   "id": "48b331fe",
   "metadata": {},
   "outputs": [],
   "source": []
  },
  {
   "cell_type": "markdown",
   "id": "d7193a4e",
   "metadata": {},
   "source": [
    "## PCA"
   ]
  },
  {
   "cell_type": "code",
   "execution_count": 47,
   "id": "d146008a",
   "metadata": {},
   "outputs": [],
   "source": [
    "data.loc[data['count'] <= 150, 'y1'] = 0\n",
    "data.loc[(data['count']>150)&(data['count'] <= 300), 'y1'] = 1\n",
    "data.loc[(data['count']>300)&(data['count'] <= 450), 'y1'] = 2\n",
    "data.loc[data['count'] > 450, 'y1'] = 3\n",
    "Data=data[['holiday', 'workingday', 'weather', 'temp', 'atemp', 'humidity', 'windspeed', 'casual', 'registered', 'y1']]\n",
    "x_data=Data.drop(['y1'], axis=1, inplace=False)\n",
    "y_data=Data['y1']"
   ]
  },
  {
   "cell_type": "code",
   "execution_count": 50,
   "id": "35ddcc9e",
   "metadata": {},
   "outputs": [
    {
     "name": "stdout",
     "output_type": "stream",
     "text": [
      "(10886, 3)\n"
     ]
    },
    {
     "data": {
      "text/html": [
       "<div>\n",
       "<style scoped>\n",
       "    .dataframe tbody tr th:only-of-type {\n",
       "        vertical-align: middle;\n",
       "    }\n",
       "\n",
       "    .dataframe tbody tr th {\n",
       "        vertical-align: top;\n",
       "    }\n",
       "\n",
       "    .dataframe thead th {\n",
       "        text-align: right;\n",
       "    }\n",
       "</style>\n",
       "<table border=\"1\" class=\"dataframe\">\n",
       "  <thead>\n",
       "    <tr style=\"text-align: right;\">\n",
       "      <th></th>\n",
       "      <th>pca_component_1</th>\n",
       "      <th>pca_component_2</th>\n",
       "      <th>pca_component_3</th>\n",
       "      <th>y1</th>\n",
       "    </tr>\n",
       "  </thead>\n",
       "  <tbody>\n",
       "    <tr>\n",
       "      <th>0</th>\n",
       "      <td>-2.108688</td>\n",
       "      <td>-0.172691</td>\n",
       "      <td>1.357184</td>\n",
       "      <td>0.0</td>\n",
       "    </tr>\n",
       "    <tr>\n",
       "      <th>1</th>\n",
       "      <td>-2.100988</td>\n",
       "      <td>-0.043042</td>\n",
       "      <td>1.355272</td>\n",
       "      <td>0.0</td>\n",
       "    </tr>\n",
       "    <tr>\n",
       "      <th>2</th>\n",
       "      <td>-2.142273</td>\n",
       "      <td>-0.055844</td>\n",
       "      <td>1.347885</td>\n",
       "      <td>0.0</td>\n",
       "    </tr>\n",
       "    <tr>\n",
       "      <th>3</th>\n",
       "      <td>-2.040526</td>\n",
       "      <td>0.010907</td>\n",
       "      <td>1.318252</td>\n",
       "      <td>0.0</td>\n",
       "    </tr>\n",
       "    <tr>\n",
       "      <th>4</th>\n",
       "      <td>-2.091981</td>\n",
       "      <td>-0.005314</td>\n",
       "      <td>1.315689</td>\n",
       "      <td>0.0</td>\n",
       "    </tr>\n",
       "    <tr>\n",
       "      <th>...</th>\n",
       "      <td>...</td>\n",
       "      <td>...</td>\n",
       "      <td>...</td>\n",
       "      <td>...</td>\n",
       "    </tr>\n",
       "    <tr>\n",
       "      <th>10871</th>\n",
       "      <td>-1.170139</td>\n",
       "      <td>0.308125</td>\n",
       "      <td>-0.700675</td>\n",
       "      <td>2.0</td>\n",
       "    </tr>\n",
       "    <tr>\n",
       "      <th>10872</th>\n",
       "      <td>-1.185861</td>\n",
       "      <td>0.182133</td>\n",
       "      <td>-0.514291</td>\n",
       "      <td>1.0</td>\n",
       "    </tr>\n",
       "    <tr>\n",
       "      <th>10873</th>\n",
       "      <td>-0.278014</td>\n",
       "      <td>0.836951</td>\n",
       "      <td>-0.739946</td>\n",
       "      <td>1.0</td>\n",
       "    </tr>\n",
       "    <tr>\n",
       "      <th>10874</th>\n",
       "      <td>-0.138796</td>\n",
       "      <td>1.073860</td>\n",
       "      <td>-0.833524</td>\n",
       "      <td>1.0</td>\n",
       "    </tr>\n",
       "    <tr>\n",
       "      <th>10875</th>\n",
       "      <td>-0.117747</td>\n",
       "      <td>0.800987</td>\n",
       "      <td>-0.764572</td>\n",
       "      <td>1.0</td>\n",
       "    </tr>\n",
       "  </tbody>\n",
       "</table>\n",
       "<p>10876 rows × 4 columns</p>\n",
       "</div>"
      ],
      "text/plain": [
       "       pca_component_1  pca_component_2  pca_component_3   y1\n",
       "0            -2.108688        -0.172691         1.357184  0.0\n",
       "1            -2.100988        -0.043042         1.355272  0.0\n",
       "2            -2.142273        -0.055844         1.347885  0.0\n",
       "3            -2.040526         0.010907         1.318252  0.0\n",
       "4            -2.091981        -0.005314         1.315689  0.0\n",
       "...                ...              ...              ...  ...\n",
       "10871        -1.170139         0.308125        -0.700675  2.0\n",
       "10872        -1.185861         0.182133        -0.514291  1.0\n",
       "10873        -0.278014         0.836951        -0.739946  1.0\n",
       "10874        -0.138796         1.073860        -0.833524  1.0\n",
       "10875        -0.117747         0.800987        -0.764572  1.0\n",
       "\n",
       "[10876 rows x 4 columns]"
      ]
     },
     "execution_count": 50,
     "metadata": {},
     "output_type": "execute_result"
    }
   ],
   "source": [
    "#data_scaled=StandardScaler().fit_transform(Data)    <--- data는 모두 float 형태로 구성되어야 함\n",
    "scaled_data=get_scaled_data(method='Standard', p_degree=None, input_data=x_data)\n",
    "\n",
    "from sklearn.decomposition import PCA \n",
    "pca=PCA(n_components=3)\n",
    "pca.fit(scaled_data)\n",
    "data_pca=pca.transform(scaled_data)\n",
    "print(data_pca.shape)\n",
    "\n",
    "pca_columns=['pca_component_1', 'pca_component_2', 'pca_component_3']\n",
    "data_pca=pd.DataFrame(data_pca, columns=pca_columns)\n",
    "data_pca['target']=y_data\n",
    "data_pca.head(-10)"
   ]
  },
  {
   "cell_type": "code",
   "execution_count": 70,
   "id": "1caa773a",
   "metadata": {},
   "outputs": [
    {
     "data": {
      "image/png": "[encoded data removed]",
      "text/plain": [
       "<Figure size 432x288 with 1 Axes>"
      ]
     },
     "metadata": {
      "needs_background": "light"
     },
     "output_type": "display_data"
    },
    {
     "name": "stdout",
     "output_type": "stream",
     "text": [
      "[0.29798885 0.17516513 0.14809569]\n"
     ]
    }
   ],
   "source": [
    "import matplotlib.pyplot as plt\n",
    "markers=['^', 's', 'o']\n",
    "for i, marker in enumerate (markers):\n",
    "    x_axis_data=data_pca[data_pca['target']==i]['pca_component_1']\n",
    "    y_axis_data=data_pca[data_pca['target']==i]['pca_component_2']\n",
    "    plt.scatter(x_axis_data, y_axis_data, marker=marker,label=['set1', 'set2', 'set3', 'set4'])\n",
    "\n",
    "plt.legend()\n",
    "plt.xlabel('pca_component_1') ; plt.ylabel('pca_component_2')\n",
    "plt.show()\n",
    "print(pca.explained_variance_ratio_)"
   ]
  },
  {
   "cell_type": "code",
   "execution_count": 73,
   "id": "afae0860",
   "metadata": {},
   "outputs": [
    {
     "name": "stdout",
     "output_type": "stream",
     "text": [
      "[0.17001929 0.16643703 0.18026461]\n",
      "[0.00936897 0.00799118 0.00744212]\n"
     ]
    }
   ],
   "source": [
    "from sklearn.ensemble import RandomForestClassifier\n",
    "from sklearn.model_selection import cross_val_score\n",
    "rcf=RandomForestClassifier(random_state=156)\n",
    "scores=cross_val_score(rcf, X_data, Y_data, scoring='accuracy', cv=3)\n",
    "print(scores)\n",
    "pca_X=data_pca[['pca_component_1', 'pca_component_2']]\n",
    "scores_pca=cross_val_score(rcf, pca_X, Y_data, scoring='accuracy', cv=3)\n",
    "print(scores_pca)"
   ]
  },
  {
   "cell_type": "code",
   "execution_count": 71,
   "id": "17d65152",
   "metadata": {},
   "outputs": [
    {
     "ename": "NameError",
     "evalue": "name 'cross_val_score' is not defined",
     "output_type": "error",
     "traceback": [
      "\u001b[1;31m---------------------------------------------------------------------------\u001b[0m",
      "\u001b[1;31mNameError\u001b[0m                                 Traceback (most recent call last)",
      "\u001b[1;32m<ipython-input-71-328426c5f604>\u001b[0m in \u001b[0;36m<module>\u001b[1;34m\u001b[0m\n\u001b[0;32m      8\u001b[0m \u001b[0mdata_lda\u001b[0m\u001b[1;33m[\u001b[0m\u001b[1;34m'target'\u001b[0m\u001b[1;33m]\u001b[0m\u001b[1;33m=\u001b[0m\u001b[0my_data\u001b[0m\u001b[1;33m\u001b[0m\u001b[1;33m\u001b[0m\u001b[0m\n\u001b[0;32m      9\u001b[0m \u001b[0mlda_X\u001b[0m\u001b[1;33m=\u001b[0m\u001b[0mdata_lda\u001b[0m\u001b[1;33m[\u001b[0m\u001b[1;33m[\u001b[0m\u001b[1;34m'lda_component_1'\u001b[0m\u001b[1;33m,\u001b[0m \u001b[1;34m'lda_component_2'\u001b[0m\u001b[1;33m]\u001b[0m\u001b[1;33m]\u001b[0m\u001b[1;33m\u001b[0m\u001b[1;33m\u001b[0m\u001b[0m\n\u001b[1;32m---> 10\u001b[1;33m \u001b[0mscores_lda\u001b[0m\u001b[1;33m=\u001b[0m\u001b[0mcross_val_score\u001b[0m\u001b[1;33m(\u001b[0m\u001b[0mrcf\u001b[0m\u001b[1;33m,\u001b[0m \u001b[0mlda_X\u001b[0m\u001b[1;33m,\u001b[0m \u001b[0mdata_lda\u001b[0m\u001b[1;33m[\u001b[0m\u001b[1;34m'target'\u001b[0m\u001b[1;33m]\u001b[0m\u001b[1;33m,\u001b[0m \u001b[0mscoring\u001b[0m\u001b[1;33m=\u001b[0m\u001b[1;34m'accuracy'\u001b[0m\u001b[1;33m,\u001b[0m \u001b[0mcv\u001b[0m\u001b[1;33m=\u001b[0m\u001b[1;36m3\u001b[0m\u001b[1;33m)\u001b[0m\u001b[1;33m\u001b[0m\u001b[1;33m\u001b[0m\u001b[0m\n\u001b[0m\u001b[0;32m     11\u001b[0m \u001b[0mprint\u001b[0m\u001b[1;33m(\u001b[0m\u001b[0mscores_lda\u001b[0m\u001b[1;33m)\u001b[0m\u001b[1;33m\u001b[0m\u001b[1;33m\u001b[0m\u001b[0m\n",
      "\u001b[1;31mNameError\u001b[0m: name 'cross_val_score' is not defined"
     ]
    }
   ],
   "source": [
    "from sklearn.discriminant_analysis import LinearDiscriminantAnalysis #LDA 선형판별분석\n",
    "scaled_data=get_scaled_data(method='Standard', p_degree=None, input_data=x_data)\n",
    "lda=LinearDiscriminantAnalysis(n_components=2) #선형판별분석 모형 구축\n",
    "lda.fit(scaled_data, y_data)\n",
    "data_lda=lda.transform(scaled_data)\n",
    "lda_columns=['lda_component_1', 'lda_component_2']\n",
    "data_lda=pd.DataFrame(data_lda, columns=lda_columns)\n",
    "data_lda['target']=y_data\n",
    "lda_X=data_lda[['lda_component_1', 'lda_component_2']]\n",
    "scores_lda=cross_val_score(rcf, lda_X, data_lda['target'], scoring='accuracy', cv=3)\n",
    "print(scores_lda)\n"
   ]
  },
  {
   "cell_type": "code",
   "execution_count": null,
   "id": "5b6686b6",
   "metadata": {},
   "outputs": [],
   "source": [
    "from sklearn.decomposition import TruncatedSVD, PCA  #Truncated SVD\n",
    "scaled_data=get_scaled_data(method='Standard', p_degree=None, input_data=x_data)\n",
    "tsvd=TruncatedSVD(n_components=2)\n",
    "tsvd.fit(scaled_data)\n",
    "data_tsvd=tsvd.transform(scaled_data)\n",
    "import matplotlib.pyplot as plt\n",
    "%matplotlib inline\n",
    "plt.scatter (x=data_tsvd[:,0], y=data_tsvd[:,1], c=data['y1'])\n",
    "plt.xlabel('TruncatedSVD Component1') ; plt.ylabel('TruncatedSVD Component2')"
   ]
  },
  {
   "cell_type": "code",
   "execution_count": null,
   "id": "b88a74c2",
   "metadata": {},
   "outputs": [],
   "source": [
    "from sklearn.decomposition import NMF #NMF (non-Negative Matrix Factorization)\n",
    "data_ftrs=x_data\n",
    "nmf=NMF(n_components=2)\n",
    "nmf.fit(data_ftrs)\n",
    "data_nmf=nmf.transform(data_ftrs)\n",
    "plt.scatter(x=data_nmf[:,0], y=data_nmf[:.1], c=data['y1'])\n",
    "plt.xlabel('NMF Component 1') ; plt.ylabel('NMF Component 2')"
   ]
  },
  {
   "cell_type": "code",
   "execution_count": null,
   "id": "aa1eef44",
   "metadata": {},
   "outputs": [],
   "source": []
  },
  {
   "cell_type": "code",
   "execution_count": null,
   "id": "22a3a2bb",
   "metadata": {},
   "outputs": [],
   "source": []
  },
  {
   "cell_type": "code",
   "execution_count": null,
   "id": "cffaec10",
   "metadata": {},
   "outputs": [],
   "source": []
  },
  {
   "cell_type": "code",
   "execution_count": null,
   "id": "820759d0",
   "metadata": {},
   "outputs": [],
   "source": []
  },
  {
   "cell_type": "code",
   "execution_count": null,
   "id": "36cb29ca",
   "metadata": {},
   "outputs": [],
   "source": []
  },
  {
   "cell_type": "code",
   "execution_count": null,
   "id": "2d51d461",
   "metadata": {},
   "outputs": [],
   "source": []
  },
  {
   "cell_type": "code",
   "execution_count": null,
   "id": "57471ccd",
   "metadata": {},
   "outputs": [],
   "source": []
  },
  {
   "cell_type": "code",
   "execution_count": null,
   "id": "96c27521",
   "metadata": {},
   "outputs": [],
   "source": []
  },
  {
   "cell_type": "code",
   "execution_count": null,
   "id": "21d54ff7",
   "metadata": {},
   "outputs": [],
   "source": []
  },
  {
   "cell_type": "code",
   "execution_count": null,
   "id": "07207d38",
   "metadata": {},
   "outputs": [],
   "source": []
  },
  {
   "cell_type": "code",
   "execution_count": null,
   "id": "8489870d",
   "metadata": {},
   "outputs": [],
   "source": []
  }
 ],
 "metadata": {
  "kernelspec": {
   "display_name": "Python 3",
   "language": "python",
   "name": "python3"
  },
  "language_info": {
   "codemirror_mode": {
    "name": "ipython",
    "version": 3
   },
   "file_extension": ".py",
   "mimetype": "text/x-python",
   "name": "python",
   "nbconvert_exporter": "python",
   "pygments_lexer": "ipython3",
   "version": "3.8.10"
  }
 },
 "nbformat": 4,
 "nbformat_minor": 5
}
