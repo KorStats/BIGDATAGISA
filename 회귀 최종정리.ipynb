{
 "cells": [
  {
   "cell_type": "code",
   "execution_count": 1,
   "id": "bcfcb1d0",
   "metadata": {},
   "outputs": [],
   "source": [
    "import numpy as np\n",
    "import pandas as pd\n",
    "import warnings\n",
    "warnings.filterwarnings(action='ignore')"
   ]
  },
  {
   "cell_type": "code",
   "execution_count": 2,
   "id": "b6d8d601",
   "metadata": {},
   "outputs": [],
   "source": [
    "data=pd.read_csv('D:\\BIGDATAGISA-main\\BIGDATAGISA-main/bikeshare.csv')\n",
    "from sklearn.model_selection import train_test_split\n",
    "X=data.drop(['count'], axis=1)\n",
    "Y=data[['count']]\n",
    "X_train, X_test, y_train, y_test=train_test_split(X, Y, test_size=0.3, random_state=0)\n",
    "\n",
    "#시험환경 : X_train, X_test, y_train까지 주어짐"
   ]
  },
  {
   "cell_type": "code",
   "execution_count": 3,
   "id": "3f42d8be",
   "metadata": {},
   "outputs": [],
   "source": [
    "train_data=pd.concat([X_train, y_train], axis=1)"
   ]
  },
  {
   "cell_type": "code",
   "execution_count": 4,
   "id": "0484263a",
   "metadata": {},
   "outputs": [],
   "source": [
    "train_data['datetime']=pd.to_datetime(train_data['datetime'])\n",
    "X_test['datetime']=pd.to_datetime(X_test['datetime'])\n",
    "pre_train_data_1=train_data[['datetime']]\n",
    "pre_train_data_2=train_data[['temp', 'atemp', 'humidity', 'windspeed', 'casual', 'registered']]\n",
    "pre_train_data_3=train_data.drop(['datetime','temp', 'atemp', 'humidity', 'windspeed', 'casual', 'registered'], axis=1)\n",
    "pre_test_data_1=X_test[['datetime']]\n",
    "pre_test_data_2=X_test[['temp', 'atemp', 'humidity', 'windspeed', 'casual', 'registered']]\n",
    "pre_test_data_3=X_test.drop(['datetime','temp', 'atemp', 'humidity', 'windspeed', 'casual', 'registered'], axis=1)"
   ]
  },
  {
   "cell_type": "code",
   "execution_count": 5,
   "id": "d119d76b",
   "metadata": {},
   "outputs": [],
   "source": [
    "#날짜 변수 처리\n",
    "def make_date(df2):\n",
    "    df=df2.copy()\n",
    "    df['year']=df['datetime'].map(lambda x : x.year)\n",
    "    df['month']=df['datetime'].map(lambda x : x.month)\n",
    "    df['day']=df['datetime'].map(lambda x : x.day)\n",
    "    df['weekend']=df['datetime'].map(lambda x : x.dayofweek)\n",
    "    df['hour']=df['datetime'].map(lambda x : x.hour)\n",
    "    df['minute']=df['datetime'].map(lambda x : x.minute)\n",
    "    return df\n",
    "\n",
    "set_train_data_1=make_date(pre_train_data_1)\n",
    "set_test_data_1=make_date(pre_test_data_1)\n",
    "set_train_data_1.drop(['datetime'], axis=1, inplace=True)\n",
    "set_test_data_1.drop(['datetime'], axis=1, inplace=True)"
   ]
  },
  {
   "cell_type": "code",
   "execution_count": 6,
   "id": "169016d0",
   "metadata": {},
   "outputs": [],
   "source": [
    "#이상치 제거\n",
    "def cut_outlier(df2, columns):\n",
    "    df=df2.copy()\n",
    "    for column in columns:\n",
    "        q1=df[column].quantile(.25)\n",
    "        q3=df[column].quantile(.75)\n",
    "        iqr=q3-q1\n",
    "        low=q1-1.5*iqr\n",
    "        high=q3+1.5*iqr\n",
    "        df.loc[df[column]<low, column]=low\n",
    "        df.loc[df[column]>high, column]=high\n",
    "    return df\n",
    "\n",
    "set_train_data_2=cut_outlier(pre_train_data_2, ['temp', 'atemp', 'humidity', 'windspeed', 'casual', 'registered'])\n",
    "set_test_data_2=cut_outlier(pre_test_data_2, ['temp', 'atemp', 'humidity', 'windspeed', 'casual', 'registered'])"
   ]
  },
  {
   "cell_type": "code",
   "execution_count": 7,
   "id": "f449b46e",
   "metadata": {},
   "outputs": [],
   "source": [
    "train_data=pd.concat([set_train_data_1, set_train_data_2, pre_train_data_3], axis=1)\n",
    "test_data=pd.concat([set_test_data_1, set_test_data_2, pre_test_data_3], axis=1)"
   ]
  },
  {
   "cell_type": "code",
   "execution_count": 8,
   "id": "5da3e9ae",
   "metadata": {},
   "outputs": [],
   "source": [
    "#더미변수화\n",
    "train_data_dum=pd.get_dummies(train_data)\n",
    "test_data_dum=pd.get_dummies(test_data)\n",
    "final_train_data, final_test_data = train_data_dum.align(test_data_dum, join='left', axis=1, fill_value=0)\n",
    "final_test_data.drop(['count'], axis=1, inplace=True)"
   ]
  },
  {
   "cell_type": "code",
   "execution_count": 9,
   "id": "35279245",
   "metadata": {},
   "outputs": [],
   "source": [
    "X=final_train_data.drop(['count'], axis=1)\n",
    "Y=final_train_data[['count']]"
   ]
  },
  {
   "cell_type": "markdown",
   "id": "7b9ad059",
   "metadata": {},
   "source": [
    "# 모델링"
   ]
  },
  {
   "cell_type": "code",
   "execution_count": 10,
   "id": "b80ce09b",
   "metadata": {},
   "outputs": [],
   "source": [
    "from sklearn.model_selection import RandomizedSearchCV\n",
    "from sklearn.ensemble import RandomForestRegressor\n",
    "\n",
    "max_depth=list(range(2,6))\n",
    "min_samples_leaf=[1,2,5]\n",
    "min_samples_split=[2,4,6]\n",
    "max_features=['auto', 'sqrt']\n",
    "bootstrap=[True, False]\n",
    "n_estimators=list(range(100,200))\n",
    "\n",
    "param_rf={'max_depth': max_depth, 'min_samples_split': min_samples_split, 'min_samples_leaf': min_samples_leaf, 'max_features': max_features,\n",
    "         'bootstrap': bootstrap, 'n_estimators': n_estimators}\n",
    "\n",
    "\n",
    "rf_clf=RandomForestRegressor()\n",
    "\n",
    "\n",
    "random_rf=RandomizedSearchCV(estimator=rf_clf, param_distributions=param_rf, n_iter=10, cv=3, scoring='neg_mean_squared_error', refit=True,\n",
    "                             return_train_score=True)\n",
    "random_rf.fit(X, Y)\n",
    "result_rf=pd.DataFrame(random_rf.cv_results_)\n",
    "result_rf=result_rf.loc[:, ['mean_test_score', 'params']]\n",
    "result_rf=result_rf.sort_values('mean_test_score', ascending=False).reset_index()"
   ]
  },
  {
   "cell_type": "code",
   "execution_count": 11,
   "id": "5ec36d95",
   "metadata": {},
   "outputs": [
    {
     "name": "stdout",
     "output_type": "stream",
     "text": [
      "-565.1013152671459\n",
      "{'n_estimators': 194, 'min_samples_split': 6, 'min_samples_leaf': 5, 'max_features': 'auto', 'max_depth': 5, 'bootstrap': True}\n"
     ]
    }
   ],
   "source": [
    "final_score=result_rf['mean_test_score'][0]\n",
    "print(final_score)\n",
    "final_params=result_rf['params'][0]\n",
    "print(final_params)"
   ]
  },
  {
   "cell_type": "code",
   "execution_count": 17,
   "id": "248cffd6",
   "metadata": {},
   "outputs": [
    {
     "data": {
      "text/html": [
       "<div>\n",
       "<style scoped>\n",
       "    .dataframe tbody tr th:only-of-type {\n",
       "        vertical-align: middle;\n",
       "    }\n",
       "\n",
       "    .dataframe tbody tr th {\n",
       "        vertical-align: top;\n",
       "    }\n",
       "\n",
       "    .dataframe thead th {\n",
       "        text-align: right;\n",
       "    }\n",
       "</style>\n",
       "<table border=\"1\" class=\"dataframe\">\n",
       "  <thead>\n",
       "    <tr style=\"text-align: right;\">\n",
       "      <th></th>\n",
       "      <th>prediction</th>\n",
       "    </tr>\n",
       "  </thead>\n",
       "  <tbody>\n",
       "    <tr>\n",
       "      <th>6638</th>\n",
       "      <td>233.966601</td>\n",
       "    </tr>\n",
       "    <tr>\n",
       "      <th>7975</th>\n",
       "      <td>263.010981</td>\n",
       "    </tr>\n",
       "    <tr>\n",
       "      <th>5915</th>\n",
       "      <td>263.010981</td>\n",
       "    </tr>\n",
       "    <tr>\n",
       "      <th>8050</th>\n",
       "      <td>411.758283</td>\n",
       "    </tr>\n",
       "    <tr>\n",
       "      <th>5894</th>\n",
       "      <td>371.054153</td>\n",
       "    </tr>\n",
       "    <tr>\n",
       "      <th>...</th>\n",
       "      <td>...</td>\n",
       "    </tr>\n",
       "    <tr>\n",
       "      <th>5521</th>\n",
       "      <td>5.032051</td>\n",
       "    </tr>\n",
       "    <tr>\n",
       "      <th>10626</th>\n",
       "      <td>14.092363</td>\n",
       "    </tr>\n",
       "    <tr>\n",
       "      <th>8126</th>\n",
       "      <td>71.096547</td>\n",
       "    </tr>\n",
       "    <tr>\n",
       "      <th>1633</th>\n",
       "      <td>63.111782</td>\n",
       "    </tr>\n",
       "    <tr>\n",
       "      <th>6198</th>\n",
       "      <td>185.184636</td>\n",
       "    </tr>\n",
       "  </tbody>\n",
       "</table>\n",
       "<p>3266 rows × 1 columns</p>\n",
       "</div>"
      ],
      "text/plain": [
       "       prediction\n",
       "6638   233.966601\n",
       "7975   263.010981\n",
       "5915   263.010981\n",
       "8050   411.758283\n",
       "5894   371.054153\n",
       "...           ...\n",
       "5521     5.032051\n",
       "10626   14.092363\n",
       "8126    71.096547\n",
       "1633    63.111782\n",
       "6198   185.184636\n",
       "\n",
       "[3266 rows x 1 columns]"
      ]
     },
     "execution_count": 17,
     "metadata": {},
     "output_type": "execute_result"
    }
   ],
   "source": [
    "rf_reg=RandomForestRegressor(n_estimators=194, min_samples_split=6, min_samples_leaf=5, max_features='auto', max_depth=5, bootstrap=True)\n",
    "rf_reg.fit(X, Y)\n",
    "pred=rf_reg.predict(final_test_data)\n",
    "pred=pred.reshape(-1,1)\n",
    "result=pd.DataFrame(pred, index=final_test_data.index).rename(columns={0:'prediction'})\n",
    "result"
   ]
  },
  {
   "cell_type": "code",
   "execution_count": null,
   "id": "053cfa79",
   "metadata": {},
   "outputs": [],
   "source": []
  }
 ],
 "metadata": {
  "kernelspec": {
   "display_name": "Python 3",
   "language": "python",
   "name": "python3"
  },
  "language_info": {
   "codemirror_mode": {
    "name": "ipython",
    "version": 3
   },
   "file_extension": ".py",
   "mimetype": "text/x-python",
   "name": "python",
   "nbconvert_exporter": "python",
   "pygments_lexer": "ipython3",
   "version": "3.8.10"
  }
 },
 "nbformat": 4,
 "nbformat_minor": 5
}
