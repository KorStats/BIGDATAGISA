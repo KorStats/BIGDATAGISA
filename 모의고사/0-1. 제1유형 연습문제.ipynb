{
 "cells": [
  {
   "cell_type": "code",
   "execution_count": 1,
   "id": "0fc04ccd",
   "metadata": {},
   "outputs": [],
   "source": [
    "import pandas as pd\n",
    "import matplotlib.pyplot as plt\n",
    "df=pd.read_csv('https://raw.githubusercontent.com/Datamanim/dataq/main/mtcars.csv', index_col=0)"
   ]
  },
  {
   "cell_type": "markdown",
   "id": "2e1ff41d",
   "metadata": {},
   "source": [
    "### 1. mtcars 데이터셋의 qsec 컬럼을 최소 최대 척도 (min-max scale)로 변환한 후 0.5보다 큰 값을 가지는 레코드 수를 구하시오"
   ]
  },
  {
   "cell_type": "code",
   "execution_count": 2,
   "id": "fa30c66e",
   "metadata": {},
   "outputs": [
    {
     "data": {
      "text/plain": [
       "array([0.23333333, 0.3       , 0.48928571, 0.58809524, 0.3       ,\n",
       "       0.68095238, 0.15952381, 0.6547619 , 1.        , 0.45238095,\n",
       "       0.52380952, 0.3452381 , 0.36904762, 0.41666667, 0.41428571,\n",
       "       0.3952381 , 0.34761905, 0.59166667, 0.47857143, 0.64285714,\n",
       "       0.65595238, 0.28214286, 0.33333333, 0.10833333, 0.30357143,\n",
       "       0.52380952, 0.26190476, 0.28571429, 0.        , 0.11904762,\n",
       "       0.01190476, 0.48809524])"
      ]
     },
     "execution_count": 2,
     "metadata": {},
     "output_type": "execute_result"
    }
   ],
   "source": [
    "X=df['qsec']\n",
    "X_MinMax=(X-X.min(axis=0))/(X.max(axis=0)-X.min(axis=0))\n",
    "overNum=len(X_MinMax[X_MinMax>0.5])\n",
    "X_MinMax.values"
   ]
  },
  {
   "cell_type": "code",
   "execution_count": 3,
   "id": "9246b12b",
   "metadata": {},
   "outputs": [
    {
     "name": "stdout",
     "output_type": "stream",
     "text": [
      "9\n"
     ]
    }
   ],
   "source": [
    "print(overNum)"
   ]
  },
  {
   "cell_type": "markdown",
   "id": "74d9a810",
   "metadata": {},
   "source": [
    "### 2. mtcars 데이터셋의 qsec 컬럼을 표준정규분포 데이터 표준화 변환후 최대, 최소값을 각각 구하시오"
   ]
  },
  {
   "cell_type": "code",
   "execution_count": 4,
   "id": "045e387c",
   "metadata": {},
   "outputs": [
    {
     "name": "stdout",
     "output_type": "stream",
     "text": [
      "2.826754592962484 -1.8740102832334835\n"
     ]
    }
   ],
   "source": [
    "mean=df.qsec.mean()\n",
    "std=df.qsec.std()\n",
    "scale=(df.qsec-mean)/std\n",
    "Max=max(scale)\n",
    "Min=min(scale)\n",
    "print(Max, Min)"
   ]
  },
  {
   "cell_type": "markdown",
   "id": "82748f48",
   "metadata": {},
   "source": [
    "### 3. mtcars 데이터셋의 wt 컬럼의 이상치 (IQR 1.5 외부에 존재하는)값들들 outlier 변수에 저장하시오"
   ]
  },
  {
   "cell_type": "code",
   "execution_count": 5,
   "id": "c47a77b5",
   "metadata": {},
   "outputs": [
    {
     "data": {
      "text/plain": [
       "array([5.25 , 5.424, 5.345])"
      ]
     },
     "execution_count": 5,
     "metadata": {},
     "output_type": "execute_result"
    }
   ],
   "source": [
    "import numpy as np\n",
    "q75, q50, q25=np.percentile(df.wt, [75, 50, 25])\n",
    "iqr=q75-q25\n",
    "outlier=df.wt[(df.wt>=q75 + iqr*1.5) | (df.wt<=q25-iqr*1.5)].values\n",
    "outlier"
   ]
  },
  {
   "cell_type": "markdown",
   "id": "a026822e",
   "metadata": {},
   "source": [
    "### 4. mtcars 데이터 셋에서 mpg 변수와 나머지 변수들의 상관관계를 구하여 다음과 같이 내림차순 정렬하여 표현하라"
   ]
  },
  {
   "cell_type": "code",
   "execution_count": 6,
   "id": "df14d210",
   "metadata": {},
   "outputs": [
    {
     "name": "stdout",
     "output_type": "stream",
     "text": [
      "           mpg\n",
      "drat  0.681172\n",
      "vs    0.664039\n",
      "am    0.599832\n",
      "gear  0.480285\n",
      "qsec  0.418684\n",
      "carb -0.550925\n",
      "hp   -0.776168\n",
      "disp -0.847551\n",
      "cyl  -0.852162\n",
      "wt   -0.867659\n"
     ]
    }
   ],
   "source": [
    "corResult=df.corr()[['mpg']][1:].sort_values('mpg', ascending=False)\n",
    "print(corResult)"
   ]
  },
  {
   "cell_type": "markdown",
   "id": "5726a486",
   "metadata": {},
   "source": [
    "### 5. mtcars 데이터셋에서 mpg변수를 제외하고 데이터 정규화 과정을 진행한 이후 PCA를 통해 변수 축소를 하려고 한다. 누적설명 분산량이 92%를 넘기기 위해서는 몇 개의 주성분을 선택해야 하는지 설명하라"
   ]
  },
  {
   "cell_type": "code",
   "execution_count": 7,
   "id": "5f2952a1",
   "metadata": {},
   "outputs": [],
   "source": [
    "from sklearn.preprocessing import StandardScaler\n",
    "\n",
    "sc=StandardScaler()\n",
    "pcaDf=df.iloc[:,1:]\n",
    "pcaDf=sc.fit_transform(pcaDf)\n",
    "\n",
    "from sklearn.decomposition import PCA\n",
    "componentsNum=10\n",
    "pca=PCA(n_components=componentsNum)\n",
    "printcipalComponents=pca.fit_transform(pcaDf)\n",
    "principalDf=pd.DataFrame(data=printcipalComponents, columns=['component'+str(x) for x in range(componentsNum)])"
   ]
  },
  {
   "cell_type": "code",
   "execution_count": 8,
   "id": "78ef3fd0",
   "metadata": {},
   "outputs": [],
   "source": [
    "componentDf=pd.DataFrame(pca.explained_variance_ratio_, columns=['cumsumVariance']).cumsum().reset_index()\n",
    "componentDf['index']+=1\n",
    "componentDf=componentDf.rename(columns={'index':'componentsCount'})"
   ]
  },
  {
   "cell_type": "code",
   "execution_count": 9,
   "id": "837f6fa4",
   "metadata": {},
   "outputs": [
    {
     "name": "stdout",
     "output_type": "stream",
     "text": [
      "   componentsCount  cumsumVariance\n",
      "0                1        0.576022\n",
      "1                2        0.840986\n",
      "2                3        0.900708\n",
      "3                4        0.927658\n",
      "4                5        0.949883\n",
      "5                6        0.970895\n",
      "6                7        0.984187\n",
      "7                8        0.992255\n",
      "8                9        0.997620\n",
      "9               10        1.000000\n"
     ]
    }
   ],
   "source": [
    "print(componentDf)"
   ]
  },
  {
   "cell_type": "markdown",
   "id": "4308f4dc",
   "metadata": {},
   "source": [
    "### 6. mtcars의 index는 (업체명)-(모델명)으로 구성된다. (valiant는 업체명) mtcars에 'brand'컬럼을 추가하고 value값으로 업체명을 입력하라"
   ]
  },
  {
   "cell_type": "code",
   "execution_count": 10,
   "id": "79b50b37",
   "metadata": {},
   "outputs": [
    {
     "data": {
      "text/html": [
       "<div>\n",
       "<style scoped>\n",
       "    .dataframe tbody tr th:only-of-type {\n",
       "        vertical-align: middle;\n",
       "    }\n",
       "\n",
       "    .dataframe tbody tr th {\n",
       "        vertical-align: top;\n",
       "    }\n",
       "\n",
       "    .dataframe thead th {\n",
       "        text-align: right;\n",
       "    }\n",
       "</style>\n",
       "<table border=\"1\" class=\"dataframe\">\n",
       "  <thead>\n",
       "    <tr style=\"text-align: right;\">\n",
       "      <th></th>\n",
       "      <th>mpg</th>\n",
       "      <th>cyl</th>\n",
       "      <th>disp</th>\n",
       "      <th>hp</th>\n",
       "      <th>drat</th>\n",
       "      <th>wt</th>\n",
       "      <th>qsec</th>\n",
       "      <th>vs</th>\n",
       "      <th>am</th>\n",
       "      <th>gear</th>\n",
       "      <th>carb</th>\n",
       "      <th>brand</th>\n",
       "    </tr>\n",
       "  </thead>\n",
       "  <tbody>\n",
       "    <tr>\n",
       "      <th>Mazda RX4</th>\n",
       "      <td>21.0</td>\n",
       "      <td>6</td>\n",
       "      <td>160.0</td>\n",
       "      <td>110</td>\n",
       "      <td>3.90</td>\n",
       "      <td>2.620</td>\n",
       "      <td>16.46</td>\n",
       "      <td>0</td>\n",
       "      <td>1</td>\n",
       "      <td>4</td>\n",
       "      <td>4</td>\n",
       "      <td>Mazda</td>\n",
       "    </tr>\n",
       "    <tr>\n",
       "      <th>Mazda RX4 Wag</th>\n",
       "      <td>21.0</td>\n",
       "      <td>6</td>\n",
       "      <td>160.0</td>\n",
       "      <td>110</td>\n",
       "      <td>3.90</td>\n",
       "      <td>2.875</td>\n",
       "      <td>17.02</td>\n",
       "      <td>0</td>\n",
       "      <td>1</td>\n",
       "      <td>4</td>\n",
       "      <td>4</td>\n",
       "      <td>Mazda</td>\n",
       "    </tr>\n",
       "    <tr>\n",
       "      <th>Datsun 710</th>\n",
       "      <td>22.8</td>\n",
       "      <td>4</td>\n",
       "      <td>108.0</td>\n",
       "      <td>93</td>\n",
       "      <td>3.85</td>\n",
       "      <td>2.320</td>\n",
       "      <td>18.61</td>\n",
       "      <td>1</td>\n",
       "      <td>1</td>\n",
       "      <td>4</td>\n",
       "      <td>1</td>\n",
       "      <td>Datsun</td>\n",
       "    </tr>\n",
       "    <tr>\n",
       "      <th>Hornet 4 Drive</th>\n",
       "      <td>21.4</td>\n",
       "      <td>6</td>\n",
       "      <td>258.0</td>\n",
       "      <td>110</td>\n",
       "      <td>3.08</td>\n",
       "      <td>3.215</td>\n",
       "      <td>19.44</td>\n",
       "      <td>1</td>\n",
       "      <td>0</td>\n",
       "      <td>3</td>\n",
       "      <td>1</td>\n",
       "      <td>Hornet</td>\n",
       "    </tr>\n",
       "    <tr>\n",
       "      <th>Hornet Sportabout</th>\n",
       "      <td>18.7</td>\n",
       "      <td>8</td>\n",
       "      <td>360.0</td>\n",
       "      <td>175</td>\n",
       "      <td>3.15</td>\n",
       "      <td>3.440</td>\n",
       "      <td>17.02</td>\n",
       "      <td>0</td>\n",
       "      <td>0</td>\n",
       "      <td>3</td>\n",
       "      <td>2</td>\n",
       "      <td>Hornet</td>\n",
       "    </tr>\n",
       "  </tbody>\n",
       "</table>\n",
       "</div>"
      ],
      "text/plain": [
       "                    mpg  cyl   disp   hp  drat     wt   qsec  vs  am  gear  \\\n",
       "Mazda RX4          21.0    6  160.0  110  3.90  2.620  16.46   0   1     4   \n",
       "Mazda RX4 Wag      21.0    6  160.0  110  3.90  2.875  17.02   0   1     4   \n",
       "Datsun 710         22.8    4  108.0   93  3.85  2.320  18.61   1   1     4   \n",
       "Hornet 4 Drive     21.4    6  258.0  110  3.08  3.215  19.44   1   0     3   \n",
       "Hornet Sportabout  18.7    8  360.0  175  3.15  3.440  17.02   0   0     3   \n",
       "\n",
       "                   carb   brand  \n",
       "Mazda RX4             4   Mazda  \n",
       "Mazda RX4 Wag         4   Mazda  \n",
       "Datsun 710            1  Datsun  \n",
       "Hornet 4 Drive        1  Hornet  \n",
       "Hornet Sportabout     2  Hornet  "
      ]
     },
     "execution_count": 10,
     "metadata": {},
     "output_type": "execute_result"
    }
   ],
   "source": [
    "df['brand']=pd.DataFrame(list(df.index.str.split(\" \")))[0].values\n",
    "df.head(5)"
   ]
  },
  {
   "cell_type": "markdown",
   "id": "52a07173",
   "metadata": {},
   "source": [
    "### 7. 추가된 brand 컬럼을 제외한 모든 컬럼을 통해 pca를 실시한다. 2개의 주성분과 brand 컬럼으로 구성된 새로운 데이터 프레임을 출력하여라"
   ]
  },
  {
   "cell_type": "code",
   "execution_count": 11,
   "id": "3d4bb938",
   "metadata": {},
   "outputs": [
    {
     "data": {
      "text/html": [
       "<div>\n",
       "<style scoped>\n",
       "    .dataframe tbody tr th:only-of-type {\n",
       "        vertical-align: middle;\n",
       "    }\n",
       "\n",
       "    .dataframe tbody tr th {\n",
       "        vertical-align: top;\n",
       "    }\n",
       "\n",
       "    .dataframe thead th {\n",
       "        text-align: right;\n",
       "    }\n",
       "</style>\n",
       "<table border=\"1\" class=\"dataframe\">\n",
       "  <thead>\n",
       "    <tr style=\"text-align: right;\">\n",
       "      <th></th>\n",
       "      <th>component0</th>\n",
       "      <th>component1</th>\n",
       "      <th>brand</th>\n",
       "    </tr>\n",
       "  </thead>\n",
       "  <tbody>\n",
       "    <tr>\n",
       "      <th>0</th>\n",
       "      <td>-79.596425</td>\n",
       "      <td>-2.132241</td>\n",
       "      <td>Mazda</td>\n",
       "    </tr>\n",
       "    <tr>\n",
       "      <th>1</th>\n",
       "      <td>-79.598570</td>\n",
       "      <td>-2.147487</td>\n",
       "      <td>Mazda</td>\n",
       "    </tr>\n",
       "    <tr>\n",
       "      <th>2</th>\n",
       "      <td>-133.894096</td>\n",
       "      <td>5.057570</td>\n",
       "      <td>Datsun</td>\n",
       "    </tr>\n",
       "    <tr>\n",
       "      <th>3</th>\n",
       "      <td>8.516559</td>\n",
       "      <td>-44.985630</td>\n",
       "      <td>Hornet</td>\n",
       "    </tr>\n",
       "    <tr>\n",
       "      <th>4</th>\n",
       "      <td>128.686342</td>\n",
       "      <td>-30.817402</td>\n",
       "      <td>Hornet</td>\n",
       "    </tr>\n",
       "    <tr>\n",
       "      <th>5</th>\n",
       "      <td>-23.220146</td>\n",
       "      <td>-35.106518</td>\n",
       "      <td>Valiant</td>\n",
       "    </tr>\n",
       "    <tr>\n",
       "      <th>6</th>\n",
       "      <td>159.309025</td>\n",
       "      <td>32.259197</td>\n",
       "      <td>Duster</td>\n",
       "    </tr>\n",
       "    <tr>\n",
       "      <th>7</th>\n",
       "      <td>-112.615805</td>\n",
       "      <td>-39.702195</td>\n",
       "      <td>Merc</td>\n",
       "    </tr>\n",
       "    <tr>\n",
       "      <th>8</th>\n",
       "      <td>-103.534591</td>\n",
       "      <td>-7.513104</td>\n",
       "      <td>Merc</td>\n",
       "    </tr>\n",
       "    <tr>\n",
       "      <th>9</th>\n",
       "      <td>-67.046877</td>\n",
       "      <td>6.208536</td>\n",
       "      <td>Merc</td>\n",
       "    </tr>\n",
       "    <tr>\n",
       "      <th>10</th>\n",
       "      <td>-66.997514</td>\n",
       "      <td>6.206387</td>\n",
       "      <td>Merc</td>\n",
       "    </tr>\n",
       "    <tr>\n",
       "      <th>11</th>\n",
       "      <td>55.211672</td>\n",
       "      <td>10.373509</td>\n",
       "      <td>Merc</td>\n",
       "    </tr>\n",
       "    <tr>\n",
       "      <th>12</th>\n",
       "      <td>55.173910</td>\n",
       "      <td>10.361893</td>\n",
       "      <td>Merc</td>\n",
       "    </tr>\n",
       "    <tr>\n",
       "      <th>13</th>\n",
       "      <td>55.251602</td>\n",
       "      <td>10.370934</td>\n",
       "      <td>Merc</td>\n",
       "    </tr>\n",
       "    <tr>\n",
       "      <th>14</th>\n",
       "      <td>242.814893</td>\n",
       "      <td>-52.501758</td>\n",
       "      <td>Cadillac</td>\n",
       "    </tr>\n",
       "    <tr>\n",
       "      <th>15</th>\n",
       "      <td>236.369886</td>\n",
       "      <td>-38.280788</td>\n",
       "      <td>Lincoln</td>\n",
       "    </tr>\n",
       "    <tr>\n",
       "      <th>16</th>\n",
       "      <td>224.737944</td>\n",
       "      <td>-16.111941</td>\n",
       "      <td>Chrysler</td>\n",
       "    </tr>\n",
       "    <tr>\n",
       "      <th>17</th>\n",
       "      <td>-172.363654</td>\n",
       "      <td>-6.575522</td>\n",
       "      <td>Fiat</td>\n",
       "    </tr>\n",
       "    <tr>\n",
       "      <th>18</th>\n",
       "      <td>-181.066911</td>\n",
       "      <td>-17.783639</td>\n",
       "      <td>Honda</td>\n",
       "    </tr>\n",
       "    <tr>\n",
       "      <th>19</th>\n",
       "      <td>-179.697852</td>\n",
       "      <td>-4.188212</td>\n",
       "      <td>Toyota</td>\n",
       "    </tr>\n",
       "    <tr>\n",
       "      <th>20</th>\n",
       "      <td>-121.224099</td>\n",
       "      <td>3.345362</td>\n",
       "      <td>Toyota</td>\n",
       "    </tr>\n",
       "    <tr>\n",
       "      <th>21</th>\n",
       "      <td>80.159386</td>\n",
       "      <td>-34.983214</td>\n",
       "      <td>Dodge</td>\n",
       "    </tr>\n",
       "    <tr>\n",
       "      <th>22</th>\n",
       "      <td>67.572431</td>\n",
       "      <td>-28.894067</td>\n",
       "      <td>AMC</td>\n",
       "    </tr>\n",
       "    <tr>\n",
       "      <th>23</th>\n",
       "      <td>150.354631</td>\n",
       "      <td>36.633575</td>\n",
       "      <td>Camaro</td>\n",
       "    </tr>\n",
       "    <tr>\n",
       "      <th>24</th>\n",
       "      <td>164.652522</td>\n",
       "      <td>-48.239880</td>\n",
       "      <td>Pontiac</td>\n",
       "    </tr>\n",
       "    <tr>\n",
       "      <th>25</th>\n",
       "      <td>-171.897231</td>\n",
       "      <td>-6.643746</td>\n",
       "      <td>Fiat</td>\n",
       "    </tr>\n",
       "    <tr>\n",
       "      <th>26</th>\n",
       "      <td>-123.804988</td>\n",
       "      <td>-2.033356</td>\n",
       "      <td>Porsche</td>\n",
       "    </tr>\n",
       "    <tr>\n",
       "      <th>27</th>\n",
       "      <td>-137.082789</td>\n",
       "      <td>28.675647</td>\n",
       "      <td>Lotus</td>\n",
       "    </tr>\n",
       "    <tr>\n",
       "      <th>28</th>\n",
       "      <td>159.413222</td>\n",
       "      <td>53.318347</td>\n",
       "      <td>Ford</td>\n",
       "    </tr>\n",
       "    <tr>\n",
       "      <th>29</th>\n",
       "      <td>-64.762396</td>\n",
       "      <td>62.954280</td>\n",
       "      <td>Ferrari</td>\n",
       "    </tr>\n",
       "    <tr>\n",
       "      <th>30</th>\n",
       "      <td>145.361703</td>\n",
       "      <td>139.049149</td>\n",
       "      <td>Maserati</td>\n",
       "    </tr>\n",
       "    <tr>\n",
       "      <th>31</th>\n",
       "      <td>-115.181783</td>\n",
       "      <td>13.826313</td>\n",
       "      <td>Volvo</td>\n",
       "    </tr>\n",
       "  </tbody>\n",
       "</table>\n",
       "</div>"
      ],
      "text/plain": [
       "    component0  component1     brand\n",
       "0   -79.596425   -2.132241     Mazda\n",
       "1   -79.598570   -2.147487     Mazda\n",
       "2  -133.894096    5.057570    Datsun\n",
       "3     8.516559  -44.985630    Hornet\n",
       "4   128.686342  -30.817402    Hornet\n",
       "5   -23.220146  -35.106518   Valiant\n",
       "6   159.309025   32.259197    Duster\n",
       "7  -112.615805  -39.702195      Merc\n",
       "8  -103.534591   -7.513104      Merc\n",
       "9   -67.046877    6.208536      Merc\n",
       "10  -66.997514    6.206387      Merc\n",
       "11   55.211672   10.373509      Merc\n",
       "12   55.173910   10.361893      Merc\n",
       "13   55.251602   10.370934      Merc\n",
       "14  242.814893  -52.501758  Cadillac\n",
       "15  236.369886  -38.280788   Lincoln\n",
       "16  224.737944  -16.111941  Chrysler\n",
       "17 -172.363654   -6.575522      Fiat\n",
       "18 -181.066911  -17.783639     Honda\n",
       "19 -179.697852   -4.188212    Toyota\n",
       "20 -121.224099    3.345362    Toyota\n",
       "21   80.159386  -34.983214     Dodge\n",
       "22   67.572431  -28.894067       AMC\n",
       "23  150.354631   36.633575    Camaro\n",
       "24  164.652522  -48.239880   Pontiac\n",
       "25 -171.897231   -6.643746      Fiat\n",
       "26 -123.804988   -2.033356   Porsche\n",
       "27 -137.082789   28.675647     Lotus\n",
       "28  159.413222   53.318347      Ford\n",
       "29  -64.762396   62.954280   Ferrari\n",
       "30  145.361703  139.049149  Maserati\n",
       "31 -115.181783   13.826313     Volvo"
      ]
     },
     "execution_count": 11,
     "metadata": {},
     "output_type": "execute_result"
    }
   ],
   "source": [
    "from sklearn.decomposition import PCA\n",
    "pcaDf=df.drop('brand', axis=1)\n",
    "componentsNum=2\n",
    "pca=PCA(n_components=componentsNum)\n",
    "printcipalComponents=pca.fit_transform(pcaDf)\n",
    "principalDf=pd.DataFrame(data=printcipalComponents, columns=['component'+str(x) for x in range(componentsNum)])\n",
    "\n",
    "principalDf['brand']=df['brand'].values\n",
    "\n",
    "principalDf"
   ]
  },
  {
   "cell_type": "code",
   "execution_count": null,
   "id": "f9c7b0e6",
   "metadata": {},
   "outputs": [],
   "source": []
  }
 ],
 "metadata": {
  "kernelspec": {
   "display_name": "Python 3",
   "language": "python",
   "name": "python3"
  },
  "language_info": {
   "codemirror_mode": {
    "name": "ipython",
    "version": 3
   },
   "file_extension": ".py",
   "mimetype": "text/x-python",
   "name": "python",
   "nbconvert_exporter": "python",
   "pygments_lexer": "ipython3",
   "version": "3.8.10"
  }
 },
 "nbformat": 4,
 "nbformat_minor": 5
}
