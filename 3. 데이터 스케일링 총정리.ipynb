{
 "cells": [
  {
   "cell_type": "markdown",
   "id": "1e077fec",
   "metadata": {},
   "source": [
    "# 데이터 스케일링"
   ]
  },
  {
   "cell_type": "markdown",
   "id": "a43d379a",
   "metadata": {},
   "source": [
    "## 데이터 불러오기"
   ]
  },
  {
   "cell_type": "code",
   "execution_count": 1,
   "id": "be86ff55",
   "metadata": {},
   "outputs": [],
   "source": [
    "import pandas as pd\n",
    "import numpy as np\n",
    "import warnings\n",
    "warnings.filterwarnings('ignore')\n",
    "\n",
    "data=pd.read_csv('D:\\Machine Learning\\ADP-master\\data/bikeshare.csv')\n",
    "\n",
    "# type별로 컬럼 분류\n",
    "col_id = []\n",
    "col_dt = ['datetime']\n",
    "col_cat = ['season']\n",
    "col_int = ['weather', 'humidity','casual','registered','count']\n",
    "col_float = ['temp','atemp','windspeed']\n",
    "col_bool = ['holiday','workingday']\n",
    "\n",
    "col_num = col_int + col_float\n",
    "data['datetime'] = pd.to_datetime(data['datetime'])\n",
    "data[col_cat]= data[col_cat].astype('str')\n",
    "data[col_int] = data[col_int].astype('int', errors='ignore')\n",
    "data[col_float] = data[col_float].astype('float')\n",
    "\n",
    "data.head()\n",
    "X_data=data[['holiday', 'workingday', 'weather', 'temp', 'atemp', 'humidity', 'windspeed', 'casual', 'registered']]\n",
    "Y_data=data[['count']]                                 # 참고 : X_data=DF.drop(['종속변수'].axis=1, inplace=False)"
   ]
  },
  {
   "cell_type": "code",
   "execution_count": 2,
   "id": "f40fcec2",
   "metadata": {},
   "outputs": [
    {
     "data": {
      "text/html": [
       "<div>\n",
       "<style scoped>\n",
       "    .dataframe tbody tr th:only-of-type {\n",
       "        vertical-align: middle;\n",
       "    }\n",
       "\n",
       "    .dataframe tbody tr th {\n",
       "        vertical-align: top;\n",
       "    }\n",
       "\n",
       "    .dataframe thead th {\n",
       "        text-align: right;\n",
       "    }\n",
       "</style>\n",
       "<table border=\"1\" class=\"dataframe\">\n",
       "  <thead>\n",
       "    <tr style=\"text-align: right;\">\n",
       "      <th></th>\n",
       "      <th>holiday</th>\n",
       "      <th>workingday</th>\n",
       "      <th>weather</th>\n",
       "      <th>temp</th>\n",
       "      <th>atemp</th>\n",
       "      <th>humidity</th>\n",
       "      <th>windspeed</th>\n",
       "      <th>casual</th>\n",
       "      <th>registered</th>\n",
       "    </tr>\n",
       "  </thead>\n",
       "  <tbody>\n",
       "    <tr>\n",
       "      <th>0</th>\n",
       "      <td>0</td>\n",
       "      <td>0</td>\n",
       "      <td>1</td>\n",
       "      <td>9.84</td>\n",
       "      <td>14.395</td>\n",
       "      <td>81</td>\n",
       "      <td>0.0</td>\n",
       "      <td>3</td>\n",
       "      <td>13</td>\n",
       "    </tr>\n",
       "    <tr>\n",
       "      <th>1</th>\n",
       "      <td>0</td>\n",
       "      <td>0</td>\n",
       "      <td>1</td>\n",
       "      <td>9.02</td>\n",
       "      <td>13.635</td>\n",
       "      <td>80</td>\n",
       "      <td>0.0</td>\n",
       "      <td>8</td>\n",
       "      <td>32</td>\n",
       "    </tr>\n",
       "    <tr>\n",
       "      <th>2</th>\n",
       "      <td>0</td>\n",
       "      <td>0</td>\n",
       "      <td>1</td>\n",
       "      <td>9.02</td>\n",
       "      <td>13.635</td>\n",
       "      <td>80</td>\n",
       "      <td>0.0</td>\n",
       "      <td>5</td>\n",
       "      <td>27</td>\n",
       "    </tr>\n",
       "    <tr>\n",
       "      <th>3</th>\n",
       "      <td>0</td>\n",
       "      <td>0</td>\n",
       "      <td>1</td>\n",
       "      <td>9.84</td>\n",
       "      <td>14.395</td>\n",
       "      <td>75</td>\n",
       "      <td>0.0</td>\n",
       "      <td>3</td>\n",
       "      <td>10</td>\n",
       "    </tr>\n",
       "    <tr>\n",
       "      <th>4</th>\n",
       "      <td>0</td>\n",
       "      <td>0</td>\n",
       "      <td>1</td>\n",
       "      <td>9.84</td>\n",
       "      <td>14.395</td>\n",
       "      <td>75</td>\n",
       "      <td>0.0</td>\n",
       "      <td>0</td>\n",
       "      <td>1</td>\n",
       "    </tr>\n",
       "  </tbody>\n",
       "</table>\n",
       "</div>"
      ],
      "text/plain": [
       "   holiday  workingday  weather  temp   atemp  humidity  windspeed  casual  \\\n",
       "0        0           0        1  9.84  14.395        81        0.0       3   \n",
       "1        0           0        1  9.02  13.635        80        0.0       8   \n",
       "2        0           0        1  9.02  13.635        80        0.0       5   \n",
       "3        0           0        1  9.84  14.395        75        0.0       3   \n",
       "4        0           0        1  9.84  14.395        75        0.0       0   \n",
       "\n",
       "   registered  \n",
       "0          13  \n",
       "1          32  \n",
       "2          27  \n",
       "3          10  \n",
       "4           1  "
      ]
     },
     "execution_count": 2,
     "metadata": {},
     "output_type": "execute_result"
    }
   ],
   "source": [
    "X_data.head()"
   ]
  },
  {
   "cell_type": "code",
   "execution_count": 3,
   "id": "68c2284b",
   "metadata": {},
   "outputs": [
    {
     "data": {
      "text/html": [
       "<div>\n",
       "<style scoped>\n",
       "    .dataframe tbody tr th:only-of-type {\n",
       "        vertical-align: middle;\n",
       "    }\n",
       "\n",
       "    .dataframe tbody tr th {\n",
       "        vertical-align: top;\n",
       "    }\n",
       "\n",
       "    .dataframe thead th {\n",
       "        text-align: right;\n",
       "    }\n",
       "</style>\n",
       "<table border=\"1\" class=\"dataframe\">\n",
       "  <thead>\n",
       "    <tr style=\"text-align: right;\">\n",
       "      <th></th>\n",
       "      <th>count</th>\n",
       "    </tr>\n",
       "  </thead>\n",
       "  <tbody>\n",
       "    <tr>\n",
       "      <th>0</th>\n",
       "      <td>16</td>\n",
       "    </tr>\n",
       "    <tr>\n",
       "      <th>1</th>\n",
       "      <td>40</td>\n",
       "    </tr>\n",
       "    <tr>\n",
       "      <th>2</th>\n",
       "      <td>32</td>\n",
       "    </tr>\n",
       "    <tr>\n",
       "      <th>3</th>\n",
       "      <td>13</td>\n",
       "    </tr>\n",
       "    <tr>\n",
       "      <th>4</th>\n",
       "      <td>1</td>\n",
       "    </tr>\n",
       "  </tbody>\n",
       "</table>\n",
       "</div>"
      ],
      "text/plain": [
       "   count\n",
       "0     16\n",
       "1     40\n",
       "2     32\n",
       "3     13\n",
       "4      1"
      ]
     },
     "execution_count": 3,
     "metadata": {},
     "output_type": "execute_result"
    }
   ],
   "source": [
    "Y_data.head()"
   ]
  },
  {
   "cell_type": "markdown",
   "id": "c3c58dfc",
   "metadata": {},
   "source": [
    "# 정규화, 표준화"
   ]
  },
  {
   "cell_type": "code",
   "execution_count": 4,
   "id": "54a9c612",
   "metadata": {},
   "outputs": [],
   "source": [
    "from sklearn.preprocessing import StandardScaler, MinMaxScaler, PolynomialFeatures\n",
    "\n",
    "def get_scaled_data(method='None', p_degree=None, input_data=None):\n",
    "    if method=='Standard':\n",
    "        scaled_data=StandardScaler().fit_transform(input_data)\n",
    "    elif method== 'MinMax':\n",
    "        scaled_data=MinMaxScaler().fit_transform(input_data)\n",
    "    elif method == 'Log':\n",
    "        scaled_data=np.log1p(input_data)\n",
    "    else:\n",
    "        scaled_data=input_data\n",
    "    if p_degree != None :\n",
    "        scaled_data=PolynomialFeatures(degree=p_degree, include_bias=False).fit_transform(scaled_data)\n",
    "    return scaled_data"
   ]
  },
  {
   "cell_type": "markdown",
   "id": "96a28e0c",
   "metadata": {},
   "source": [
    "# 차원 축소\n",
    "\n",
    "## Feature Selection\n",
    " - Filter-based-method : information grain, chi-square test, fisher score, correlation coefficient, variance threshold\n",
    " - Wrapper-based-method : Forward seleciotn, Backward elimination, Recursive feature elimination, Stepwise selection\n",
    " - Embeded method : Lasso, Ridge\n",
    " \n",
    "## Feature Extraction\n",
    " - Linear method : PCA, LCA\n",
    " - Non-Linear method : AE, t-SNE"
   ]
  },
  {
   "cell_type": "markdown",
   "id": "44910e76",
   "metadata": {},
   "source": [
    "## Variance Threshold, Chi-squared based feature selection, Select From Model"
   ]
  },
  {
   "cell_type": "code",
   "execution_count": 5,
   "id": "0ddf6516",
   "metadata": {},
   "outputs": [
    {
     "name": "stdout",
     "output_type": "stream",
     "text": [
      "X_data: (10886, 9), X_reduced_Var: (10886, 8), X_reduced_KB:(10886, 5)\n",
      "X_reduced_lr: (10886, 9), X_reduced_rf: (10886, 6)\n",
      "#### X_data ##### \n",
      "    holiday  workingday  weather  temp   atemp  humidity  windspeed  casual  \\\n",
      "0        0           0        1  9.84  14.395        81        0.0       3   \n",
      "1        0           0        1  9.02  13.635        80        0.0       8   \n",
      "\n",
      "   registered  \n",
      "0          13  \n",
      "1          32  \n",
      "#### X_reduced_Var #### \n",
      " [[ 0.     1.     9.84  14.395 81.     0.     3.    13.   ]\n",
      " [ 0.     1.     9.02  13.635 80.     0.     8.    32.   ]]\n",
      "#### X_reduced_Chi #### \n",
      " [[ 9.84  14.395 81.     3.    13.   ]\n",
      " [ 9.02  13.635 80.     8.    32.   ]]\n",
      "selector_Chi.scores_: \n",
      " [6.81355480e+02 3.20135759e+02 2.34265530e+02 8.17418862e+03\n",
      " 8.15250147e+03 1.22860675e+04 5.28275691e+03 4.62518232e+05\n",
      " 1.52880232e+06]\n",
      "selector_Chi.pvalues_ : \n",
      " [0.99986728 1.         1.         0.         0.         0.\n",
      " 0.         0.         0.        ]\n",
      "#### X_reduced_lr #### \n",
      " [[ 0.     0.     1.     9.84  14.395 81.     0.     3.    13.   ]\n",
      " [ 0.     0.     1.     9.02  13.635 80.     0.     8.    32.   ]]\n",
      "#### X_reduced_rf #### \n",
      " [[ 9.84  14.395 81.     0.     3.    13.   ]\n",
      " [ 9.02  13.635 80.     0.     8.    32.   ]]\n"
     ]
    }
   ],
   "source": [
    "from sklearn.feature_selection import VarianceThreshold, SelectKBest, chi2, SelectFromModel\n",
    "from sklearn.linear_model import LogisticRegression #SelectFromModel을 위해\n",
    "from sklearn.ensemble import RandomForestClassifier #SelectFromModel을 위해\n",
    "\n",
    "lr=LogisticRegression(penalty='l2', C=0.05)\n",
    "lr.fit(X_data, Y_data)\n",
    "rf=RandomForestClassifier(n_estimators=20, max_features='auto')\n",
    "rf.fit(X_data, Y_data)\n",
    "\n",
    "selector_Var=VarianceThreshold(threshold=0.2)  #VarianceThreshold     ex) threshold=0 : 모든 값이 같은 변수가 제거\n",
    "selector_Chi=SelectKBest(chi2, k=5) #Chi-squared based feature selection  (5개변수만 선정)\n",
    "selector_lr=SelectFromModel(estimator=lr, threshold=0.00001, prefit=True) #SelectFromModel\n",
    "selector_rf=SelectFromModel(estimator=rf, threshold=0.1, prefit=True)\n",
    "\n",
    "X_reduced_Var=selector_Var.fit_transform(X_data) #Var, KB는 fit_transform\n",
    "X_reduced_Chi=selector_Chi.fit_transform(X_data, Y_data)\n",
    "X_reduced_lr=selector_lr.transform(X_data) #SelectFromModel은 fit한 모델로 selector를 만들었기 때문에 transform만 함\n",
    "X_reduced_rf=selector_rf.transform(X_data)\n",
    "\n",
    "\n",
    "print('X_data: {0}, X_reduced_Var: {1}, X_reduced_KB:{2}'.format(X_data.shape, X_reduced_Var.shape,  X_reduced_Chi.shape))\n",
    "print('X_reduced_lr: {0}, X_reduced_rf: {1}'.format(X_reduced_lr.shape,  X_reduced_rf.shape))\n",
    "\n",
    "print('#### X_data ##### \\n', X_data.head(2)) #type(X_data) : DataFrame\n",
    "print('#### X_reduced_Var #### \\n', X_reduced_Var[0:2, :]) #type(X_reduced) : ndarray\n",
    "print('#### X_reduced_Chi #### \\n', X_reduced_Chi[0:2, :]) \n",
    "print('selector_Chi.scores_: \\n', selector_Chi.scores_)\n",
    "print('selector_Chi.pvalues_ : \\n',selector_Chi.pvalues_)\n",
    "print('#### X_reduced_lr #### \\n', X_reduced_lr[0:2, :]) \n",
    "print('#### X_reduced_rf #### \\n', X_reduced_rf[0:2, :]) "
   ]
  },
  {
   "cell_type": "markdown",
   "id": "c6bea7dd",
   "metadata": {},
   "source": [
    "###### Recursive feature elimination (RFE)"
   ]
  },
  {
   "cell_type": "code",
   "execution_count": 6,
   "id": "b017fd7d",
   "metadata": {},
   "outputs": [],
   "source": [
    "from sklearn.feature_selection import RFECV\n",
    "from sklearn import svm #서포트벡터머신\n",
    "from sklearn.model_selection import StratifiedKFold"
   ]
  },
  {
   "cell_type": "code",
   "execution_count": null,
   "id": "cd7749fe",
   "metadata": {},
   "outputs": [
    {
     "name": "stdout",
     "output_type": "stream",
     "text": [
      "Fitting estimator with 9 features.\n",
      "Fitting estimator with 8 features.\n",
      "Fitting estimator with 7 features.\n",
      "Fitting estimator with 6 features.\n",
      "Fitting estimator with 5 features.\n",
      "Fitting estimator with 4 features.\n",
      "Fitting estimator with 3 features.\n",
      "Fitting estimator with 2 features.\n",
      "Fitting estimator with 9 features.\n",
      "Fitting estimator with 8 features.\n",
      "Fitting estimator with 7 features.\n",
      "Fitting estimator with 6 features.\n",
      "Fitting estimator with 5 features.\n",
      "Fitting estimator with 4 features.\n",
      "Fitting estimator with 3 features.\n",
      "Fitting estimator with 2 features.\n",
      "Fitting estimator with 9 features.\n"
     ]
    }
   ],
   "source": [
    "svc=svm.SVC(kernel='linear')\n",
    "rfecv=RFECV(estimator=svc, step=1, cv=StratifiedKFold(n_splits=2), scoring='accuracy', verbose=1)\n",
    "rfecv.fit(X_data, Y_data)\n",
    "print(rfecv.n_features_)\n",
    "print(rfecv.support_)"
   ]
  },
  {
   "cell_type": "markdown",
   "id": "48884c99",
   "metadata": {},
   "source": [
    "## Ridge, Lasso, ElasticNet"
   ]
  },
  {
   "cell_type": "code",
   "execution_count": 7,
   "id": "881bf1ea",
   "metadata": {},
   "outputs": [],
   "source": [
    "from sklearn.linear_model import Ridge, Lasso, ElasticNet\n",
    "from sklearn.model_selection import cross_val_score\n",
    "\n",
    "def get_linear_reg_eval (model_name, params=None, X_data_n=None, y_target_n=None, verbose=True):\n",
    "    coeff_df=pd.DataFrame()\n",
    "    if verbose:\n",
    "        print('####', model_name, '####')\n",
    "    for param in params:\n",
    "        if model_name=='Ridge':\n",
    "            model=Ridge(alpha=param)\n",
    "        elif model_name=='Lasso':\n",
    "            model=Lasso(alpha=param)\n",
    "        elif model_name=='ElasticNet':\n",
    "            model=ElasticNet(alpha=param, l1_ratio=0.7)\n",
    "        neg_mse_scores=cross_val_score(model, X_data_n, y_target_n, scoring='neg_mean_squared_error', cv=5)\n",
    "        avg_rmse=np.mean(np.sqrt(-1*neg_mse_scores))\n",
    "        print('alpha{0}일 때 5folds의 평균 rmse: {1:.3f}'.format(param, avg_rmse))\n",
    "        model.fit(X_data, Y_data)\n",
    "        coeff=pd.Series(data=model.coef_[0], index=X_data.columns)\n",
    "        colname='alpha:'+str(param)\n",
    "        coeff_df[colname]=coeff\n",
    "    return coeff_df"
   ]
  },
  {
   "cell_type": "code",
   "execution_count": 8,
   "id": "c57aed1c",
   "metadata": {},
   "outputs": [
    {
     "name": "stdout",
     "output_type": "stream",
     "text": [
      "#### Ridge ####\n",
      "alpha0일 때 5folds의 평균 rmse: 0.000\n",
      "alpha0.1일 때 5folds의 평균 rmse: 0.000\n",
      "alpha1일 때 5folds의 평균 rmse: 0.000\n",
      "alpha10일 때 5folds의 평균 rmse: 0.000\n",
      "alpha100일 때 5folds의 평균 rmse: 0.000\n",
      "#### Lasso ####\n",
      "alpha0.07일 때 5folds의 평균 rmse: 0.002\n",
      "alpha0.1일 때 5folds의 평균 rmse: 0.002\n",
      "alpha0.5일 때 5folds의 평균 rmse: 0.011\n",
      "alpha1.3일 때 5folds의 평균 rmse: 0.029\n",
      "#### ElasticNet ####\n",
      "alpha0.07일 때 5folds의 평균 rmse: 0.002\n",
      "alpha0.1일 때 5folds의 평균 rmse: 0.002\n",
      "alpha0.5일 때 5folds의 평균 rmse: 0.011\n",
      "alpha1.3일 때 5folds의 평균 rmse: 0.028\n",
      "##### Ridge ##### \n",
      "                  alpha:0     alpha:0.1       alpha:1      alpha:10  \\\n",
      "holiday     4.197878e-14 -9.121727e-08 -9.083481e-07 -8.714585e-06   \n",
      "workingday  2.532443e-13 -2.809856e-07 -2.808038e-06 -2.790063e-05   \n",
      "weather    -3.542129e-13  2.223220e-08  2.222049e-07  2.210106e-06   \n",
      "temp        6.502524e-14  9.496911e-09  9.492827e-08  9.452952e-07   \n",
      "atemp      -7.350914e-14  8.681085e-09  8.682914e-08  8.700409e-07   \n",
      "humidity    1.682264e-14 -5.620571e-09 -5.619923e-08 -5.613347e-07   \n",
      "windspeed   9.326090e-15  7.304992e-11  7.311473e-10  7.387316e-09   \n",
      "casual      1.000000e+00  1.000000e+00  9.999999e-01  9.999993e-01   \n",
      "registered  1.000000e+00  1.000000e+00  1.000000e+00  1.000000e+00   \n",
      "\n",
      "               alpha:100  \n",
      "holiday    -6.025674e-05  \n",
      "workingday -2.629547e-04  \n",
      "weather     2.098264e-05  \n",
      "temp        9.121473e-06  \n",
      "atemp       8.830629e-06  \n",
      "humidity   -5.552601e-06  \n",
      "windspeed   8.165400e-08  \n",
      "casual      9.999929e-01  \n",
      "registered  1.000000e+00  \n",
      "##### Lasso ##### \n",
      "             alpha:0.07  alpha:0.1  alpha:0.5  alpha:1.3\n",
      "holiday            0.0        0.0        0.0        0.0\n",
      "workingday         0.0        0.0        0.0        0.0\n",
      "weather            0.0        0.0        0.0        0.0\n",
      "temp               0.0        0.0        0.0        0.0\n",
      "atemp              0.0        0.0        0.0        0.0\n",
      "humidity           0.0        0.0        0.0        0.0\n",
      "windspeed          0.0        0.0        0.0        0.0\n",
      "casual             0.0        0.0        0.0        0.0\n",
      "registered         0.0        0.0        0.0        0.0\n",
      "##### ElasticNet ##### \n",
      "             alpha:0.07  alpha:0.1  alpha:0.5  alpha:1.3\n",
      "holiday            0.0        0.0        0.0        0.0\n",
      "workingday         0.0        0.0        0.0        0.0\n",
      "weather            0.0        0.0        0.0        0.0\n",
      "temp               0.0        0.0        0.0        0.0\n",
      "atemp              0.0        0.0        0.0        0.0\n",
      "humidity           0.0        0.0        0.0        0.0\n",
      "windspeed          0.0        0.0        0.0        0.0\n",
      "casual             0.0        0.0        0.0        0.0\n",
      "registered         0.0        0.0        0.0        0.0\n"
     ]
    }
   ],
   "source": [
    "ridge_alphas=[0, 0.1, 1, 10, 100]\n",
    "lasso_alphas=[0.07, 0.1, 0.5, 1.3]\n",
    "elastic_alphas=[0.07, 0.1, 0.5, 1.3]\n",
    "\n",
    "coeff_ridge_df=get_linear_reg_eval('Ridge', params=ridge_alphas, X_data_n=X_data, y_target_n=Y_data)\n",
    "coeff_lasso_df=get_linear_reg_eval('Lasso', params=lasso_alphas, X_data_n=X_data, y_target_n=Y_data)\n",
    "coeff_elastic_df=get_linear_reg_eval('ElasticNet', params=elastic_alphas, X_data_n=X_data, y_target_n=Y_data)\n",
    "\n",
    "sort_column_ridge='alpha:'+str(ridge_alphas[0])\n",
    "sort_column_lasso='alpha:'+str(lasso_alphas[0])\n",
    "sort_column_elastic='alpha:'+str(elastic_alphas[0])\n",
    "\n",
    "coeff_ridge_df.sort_values(by=sort_column_ridge, ascending=False)\n",
    "coeff_lasso_df.sort_values(by=sort_column_lasso, ascending=False)\n",
    "coeff_elastic_df.sort_values(by=sort_column_elastic, ascending=False)\n",
    "\n",
    "print('##### Ridge ##### \\n', coeff_ridge_df)\n",
    "print('##### Lasso ##### \\n',coeff_lasso_df)\n",
    "print('##### ElasticNet ##### \\n',coeff_elastic_df)"
   ]
  },
  {
   "cell_type": "markdown",
   "id": "d7193a4e",
   "metadata": {},
   "source": [
    "## PCA, LDA, Truncated SVD, NMF"
   ]
  },
  {
   "cell_type": "code",
   "execution_count": 9,
   "id": "d146008a",
   "metadata": {},
   "outputs": [],
   "source": [
    "data.loc[data['count'] <= 150, 'y1'] = 0\n",
    "data.loc[(data['count']>150)&(data['count'] <= 300), 'y1'] = 1\n",
    "data.loc[(data['count']>300)&(data['count'] <= 450), 'y1'] = 2\n",
    "data.loc[data['count'] > 450, 'y1'] = 3\n",
    "Data=data[['holiday', 'workingday', 'weather', 'temp', 'atemp', 'humidity', 'windspeed', 'casual', 'registered', 'y1']]\n",
    "x_data=Data.drop(['y1'], axis=1, inplace=False)\n",
    "y_data=Data['y1']\n",
    "\n",
    "#data_scaled=StandardScaler().fit_transform(Data)      *x_data를 정규화     *정규화 데이터는 모두 float 형태로 구성되어야 함\n",
    "scaled_data=get_scaled_data(method='Standard', p_degree=None, input_data=x_data)\n",
    "\n",
    "from sklearn.ensemble import RandomForestClassifier #분류 모델 호출\n",
    "from sklearn.model_selection import cross_val_score\n",
    "rcf=RandomForestClassifier(random_state=156) "
   ]
  },
  {
   "cell_type": "code",
   "execution_count": 10,
   "id": "cfe24d25",
   "metadata": {},
   "outputs": [
    {
     "name": "stdout",
     "output_type": "stream",
     "text": [
      "#### PCA #### \n",
      "        pca_component_1  pca_component_2  pca_component_3  target\n",
      "0            -2.108688        -0.172691         1.357184     0.0\n",
      "1            -2.100988        -0.043042         1.355272     0.0\n",
      "2            -2.142273        -0.055844         1.347885     0.0\n",
      "3            -2.040526         0.010907         1.318252     0.0\n",
      "4            -2.091981        -0.005314         1.315689     0.0\n",
      "...                ...              ...              ...     ...\n",
      "10871        -1.170139         0.308125        -0.700675     2.0\n",
      "10872        -1.185861         0.182133        -0.514291     1.0\n",
      "10873        -0.278014         0.836951        -0.739946     1.0\n",
      "10874        -0.138796         1.073860        -0.833524     1.0\n",
      "10875        -0.117747         0.800987        -0.764572     1.0\n",
      "\n",
      "[10876 rows x 4 columns]\n",
      "#### LDA #### \n",
      "        lda_component_1  lda_component_2  target\n",
      "0            -3.145626         1.553908     0.0\n",
      "1            -2.708872         1.657926     0.0\n",
      "2            -2.861368         1.630645     0.0\n",
      "3            -3.219626         1.312930     0.0\n",
      "4            -3.440959         1.274376     0.0\n",
      "...                ...              ...     ...\n",
      "10871         2.153314         1.712999     2.0\n",
      "10872        -0.456900         0.839811     1.0\n",
      "10873         0.163946        -0.144200     1.0\n",
      "10874         0.793532        -0.084883     1.0\n",
      "10875         0.364949        -0.307859     1.0\n",
      "\n",
      "[10876 rows x 3 columns]\n",
      "#### TSVD #### \n",
      "        tsvd_component_1  tsvd_component_2  target\n",
      "0             -2.108688         -0.172691     0.0\n",
      "1             -2.100988         -0.043042     0.0\n",
      "2             -2.142273         -0.055844     0.0\n",
      "3             -2.040526          0.010907     0.0\n",
      "4             -2.091981         -0.005314     0.0\n",
      "...                 ...               ...     ...\n",
      "10871         -1.170139          0.308125     2.0\n",
      "10872         -1.185861          0.182133     1.0\n",
      "10873         -0.278014          0.836951     1.0\n",
      "10874         -0.138796          1.073860     1.0\n",
      "10875         -0.117747          0.800987     1.0\n",
      "\n",
      "[10876 rows x 3 columns]\n",
      "#### NMF #### \n",
      "        nmf_component_1  nmf_component_2  target\n",
      "0             0.069087         0.882884     0.0\n",
      "1             0.197706         0.860457     0.0\n",
      "2             0.162062         0.859846     0.0\n",
      "3             0.051225         0.824591     0.0\n",
      "4             0.000000         0.826002     0.0\n",
      "...                ...              ...     ...\n",
      "10871         1.995421         0.595714     2.0\n",
      "10872         0.956851         0.706652     1.0\n",
      "10873         1.120220         0.579877     1.0\n",
      "10874         1.343053         0.560413     1.0\n",
      "10875         1.210991         0.527306     1.0\n",
      "\n",
      "[10876 rows x 3 columns]\n",
      "Original Score: [0.95480849 0.96941306 0.97657111]\n",
      "PCA Score:  [0.5905208  0.56682282 0.60281147]\n",
      "LDA Score:  [0.96748416 0.96858639 0.97767365]\n",
      "TSVD Score: [0.5905208  0.56682282 0.60281147]\n",
      "NMF Score: [0.85450537 0.88729678 0.89829107]\n"
     ]
    }
   ],
   "source": [
    "from sklearn.decomposition import PCA, TruncatedSVD, NMF #PCA, Truncated SVD, NMF(non-Negative Matrix Factorization)\n",
    "from sklearn.discriminant_analysis import LinearDiscriminantAnalysis #LDA 선형판별분석  *분류에 유리 *스케일링 필요\n",
    "\n",
    "\n",
    "pca=PCA(n_components=3)\n",
    "lda=LinearDiscriminantAnalysis(n_components=2)\n",
    "tsvd=TruncatedSVD(n_components=2)\n",
    "nmf=NMF(n_components=2)\n",
    "\n",
    "\n",
    "pca.fit(scaled_data)\n",
    "lda.fit(scaled_data, y_data) #LDA는 선형판별분석이므로 y_data 들어가는 것에 유의\n",
    "tsvd.fit(scaled_data)\n",
    "nmf.fit(X_data) #NMF는 데이터에 음수값이 없어야함\n",
    "\n",
    "data_pca=pca.transform(scaled_data)\n",
    "data_lda=lda.transform(scaled_data)\n",
    "data_tsvd=tsvd.transform(scaled_data)\n",
    "data_nmf=nmf.transform(X_data)\n",
    "\n",
    "pca_columns=['pca_component_1', 'pca_component_2', 'pca_component_3']\n",
    "lda_columns=['lda_component_1', 'lda_component_2']\n",
    "tsvd_columns=['tsvd_component_1', 'tsvd_component_2']\n",
    "nmf_columns=['nmf_component_1', 'nmf_component_2']\n",
    "\n",
    "data_pca=pd.DataFrame(data_pca, columns=pca_columns)\n",
    "data_lda=pd.DataFrame(data_lda, columns=lda_columns)\n",
    "data_tsvd=pd.DataFrame(data_tsvd, columns=tsvd_columns)\n",
    "data_nmf=pd.DataFrame(data_nmf, columns=nmf_columns)\n",
    "\n",
    "data_pca['target']=y_data\n",
    "data_lda['target']=y_data\n",
    "data_tsvd['target']=y_data\n",
    "data_nmf['target']=y_data\n",
    "\n",
    "print('#### PCA #### \\n', data_pca.head(-10))\n",
    "print('#### LDA #### \\n', data_lda.head(-10))\n",
    "print('#### TSVD #### \\n', data_tsvd.head(-10))\n",
    "print('#### NMF #### \\n', data_nmf.head(-10))\n",
    "\n",
    "pca_X=data_pca[['pca_component_1', 'pca_component_2']]\n",
    "lda_X=data_lda[['lda_component_1', 'lda_component_2']]\n",
    "tsvd_X=data_tsvd[['tsvd_component_1', 'tsvd_component_2']]\n",
    "nmf_X=data_nmf[['nmf_component_1', 'nmf_component_2']]\n",
    "\n",
    "\n",
    "scores=cross_val_score(rcf, scaled_data, y_data, scoring='accuracy', cv=3)\n",
    "scores_pca=cross_val_score(rcf, pca_X, data_pca['target'], scoring='accuracy', cv=3)\n",
    "scores_lda=cross_val_score(rcf, lda_X, data_lda['target'], scoring='accuracy', cv=3)\n",
    "scores_tsvd=cross_val_score(rcf, tsvd_X, data_tsvd['target'], scoring='accuracy', cv=3)\n",
    "scores_nmf=cross_val_score(rcf, nmf_X, data_nmf['target'], scoring='accuracy', cv=3)\n",
    "\n",
    "print('Original Score:', scores)\n",
    "print('PCA Score: ', scores_pca)\n",
    "print('LDA Score: ', scores_lda)\n",
    "print('TSVD Score:', scores_tsvd)\n",
    "print('NMF Score:', scores_nmf)"
   ]
  },
  {
   "cell_type": "code",
   "execution_count": 11,
   "id": "1caa773a",
   "metadata": {},
   "outputs": [
    {
     "data": {
      "image/png": "[encoded data removed]",
      "text/plain": [
       "<Figure size 432x288 with 1 Axes>"
      ]
     },
     "metadata": {
      "needs_background": "light"
     },
     "output_type": "display_data"
    },
    {
     "name": "stdout",
     "output_type": "stream",
     "text": [
      "[0.29798885 0.17516513 0.14809569]\n"
     ]
    }
   ],
   "source": [
    "import matplotlib.pyplot as plt\n",
    "%matplotlib inline\n",
    "\n",
    "markers=['^', 's', 'o']\n",
    "for i, marker in enumerate (markers):\n",
    "    x_axis_data=data_pca[data_pca['target']==i]['pca_component_1']\n",
    "    y_axis_data=data_pca[data_pca['target']==i]['pca_component_2']\n",
    "    plt.scatter(x_axis_data, y_axis_data, marker=marker,label=['set1', 'set2', 'set3', 'set4'])\n",
    "\n",
    "plt.legend()\n",
    "plt.xlabel('pca_component_1') ; plt.ylabel('pca_component_2')\n",
    "plt.show()\n",
    "print(pca.explained_variance_ratio_)"
   ]
  },
  {
   "cell_type": "code",
   "execution_count": 12,
   "id": "ac309418",
   "metadata": {},
   "outputs": [
    {
     "data": {
      "text/plain": [
       "Text(0, 0.5, 'TruncatedSVD Component2')"
      ]
     },
     "execution_count": 12,
     "metadata": {},
     "output_type": "execute_result"
    },
    {
     "data": {
      "image/png": "[encoded data removed]",
      "text/plain": [
       "<Figure size 432x288 with 1 Axes>"
      ]
     },
     "metadata": {
      "needs_background": "light"
     },
     "output_type": "display_data"
    }
   ],
   "source": [
    "plt.scatter(x=data_tsvd['tsvd_component_1'], y=data_tsvd['tsvd_component_2'], c=data_tsvd['target'])\n",
    "plt.xlabel('TruncatedSVD Component1'); plt.ylabel('TruncatedSVD Component2')"
   ]
  },
  {
   "cell_type": "markdown",
   "id": "bf6b7425",
   "metadata": {},
   "source": [
    "# 오버샘플링/언더샘플링\n",
    "\n",
    " - 빅데이터분석기사 실기 시험 지원 패키지에 imblearn 없음 (고로 시험에 안나옴)"
   ]
  },
  {
   "cell_type": "code",
   "execution_count": null,
   "id": "93dafa7e",
   "metadata": {},
   "outputs": [],
   "source": []
  }
 ],
 "metadata": {
  "kernelspec": {
   "display_name": "Python 3",
   "language": "python",
   "name": "python3"
  },
  "language_info": {
   "codemirror_mode": {
    "name": "ipython",
    "version": 3
   },
   "file_extension": ".py",
   "mimetype": "text/x-python",
   "name": "python",
   "nbconvert_exporter": "python",
   "pygments_lexer": "ipython3",
   "version": "3.8.10"
  }
 },
 "nbformat": 4,
 "nbformat_minor": 5
}
