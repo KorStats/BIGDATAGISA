{
 "cells": [
  {
   "cell_type": "code",
   "execution_count": 93,
   "id": "ef9c1187",
   "metadata": {},
   "outputs": [],
   "source": [
    "import pandas as pd\n",
    "import numpy as np\n",
    "import warnings\n",
    "warnings.filterwarnings('ignore')\n",
    "\n",
    "data=pd.read_csv('D:\\Machine Learning\\ADP-master\\data/bikeshare.csv')\n",
    "\n",
    "# type별로 컬럼 분류\n",
    "col_id = []\n",
    "col_dt = ['datetime']\n",
    "col_cat = ['season']\n",
    "col_int = ['weather', 'humidity','casual','registered','count']\n",
    "col_float = ['temp','atemp','windspeed']\n",
    "col_bool = ['holiday','workingday']\n",
    "\n",
    "col_num = col_int + col_float\n",
    "data['datetime'] = pd.to_datetime(data['datetime'])\n",
    "data[col_cat]= data[col_cat].astype('str')\n",
    "data[col_int] = data[col_int].astype('int', errors='ignore')\n",
    "data[col_float] = data[col_float].astype('float')\n",
    "\n",
    "data.head()\n",
    "X_data=data[['holiday', 'workingday', 'weather', 'temp', 'atemp', 'humidity', 'windspeed', 'casual', 'registered']]\n",
    "Y_data=data[['count']]                                 # 참고 : X_data=DF.drop(['종속변수'].axis=1, inplace=False)"
   ]
  },
  {
   "cell_type": "code",
   "execution_count": 94,
   "id": "e38a9fb3",
   "metadata": {},
   "outputs": [
    {
     "data": {
      "text/html": [
       "<div>\n",
       "<style scoped>\n",
       "    .dataframe tbody tr th:only-of-type {\n",
       "        vertical-align: middle;\n",
       "    }\n",
       "\n",
       "    .dataframe tbody tr th {\n",
       "        vertical-align: top;\n",
       "    }\n",
       "\n",
       "    .dataframe thead th {\n",
       "        text-align: right;\n",
       "    }\n",
       "</style>\n",
       "<table border=\"1\" class=\"dataframe\">\n",
       "  <thead>\n",
       "    <tr style=\"text-align: right;\">\n",
       "      <th></th>\n",
       "      <th>holiday</th>\n",
       "      <th>workingday</th>\n",
       "      <th>weather</th>\n",
       "      <th>temp</th>\n",
       "      <th>atemp</th>\n",
       "      <th>humidity</th>\n",
       "      <th>windspeed</th>\n",
       "      <th>casual</th>\n",
       "      <th>registered</th>\n",
       "    </tr>\n",
       "  </thead>\n",
       "  <tbody>\n",
       "    <tr>\n",
       "      <th>0</th>\n",
       "      <td>0</td>\n",
       "      <td>0</td>\n",
       "      <td>1</td>\n",
       "      <td>9.84</td>\n",
       "      <td>14.395</td>\n",
       "      <td>81</td>\n",
       "      <td>0.0</td>\n",
       "      <td>3</td>\n",
       "      <td>13</td>\n",
       "    </tr>\n",
       "    <tr>\n",
       "      <th>1</th>\n",
       "      <td>0</td>\n",
       "      <td>0</td>\n",
       "      <td>1</td>\n",
       "      <td>9.02</td>\n",
       "      <td>13.635</td>\n",
       "      <td>80</td>\n",
       "      <td>0.0</td>\n",
       "      <td>8</td>\n",
       "      <td>32</td>\n",
       "    </tr>\n",
       "    <tr>\n",
       "      <th>2</th>\n",
       "      <td>0</td>\n",
       "      <td>0</td>\n",
       "      <td>1</td>\n",
       "      <td>9.02</td>\n",
       "      <td>13.635</td>\n",
       "      <td>80</td>\n",
       "      <td>0.0</td>\n",
       "      <td>5</td>\n",
       "      <td>27</td>\n",
       "    </tr>\n",
       "    <tr>\n",
       "      <th>3</th>\n",
       "      <td>0</td>\n",
       "      <td>0</td>\n",
       "      <td>1</td>\n",
       "      <td>9.84</td>\n",
       "      <td>14.395</td>\n",
       "      <td>75</td>\n",
       "      <td>0.0</td>\n",
       "      <td>3</td>\n",
       "      <td>10</td>\n",
       "    </tr>\n",
       "    <tr>\n",
       "      <th>4</th>\n",
       "      <td>0</td>\n",
       "      <td>0</td>\n",
       "      <td>1</td>\n",
       "      <td>9.84</td>\n",
       "      <td>14.395</td>\n",
       "      <td>75</td>\n",
       "      <td>0.0</td>\n",
       "      <td>0</td>\n",
       "      <td>1</td>\n",
       "    </tr>\n",
       "  </tbody>\n",
       "</table>\n",
       "</div>"
      ],
      "text/plain": [
       "   holiday  workingday  weather  temp   atemp  humidity  windspeed  casual  \\\n",
       "0        0           0        1  9.84  14.395        81        0.0       3   \n",
       "1        0           0        1  9.02  13.635        80        0.0       8   \n",
       "2        0           0        1  9.02  13.635        80        0.0       5   \n",
       "3        0           0        1  9.84  14.395        75        0.0       3   \n",
       "4        0           0        1  9.84  14.395        75        0.0       0   \n",
       "\n",
       "   registered  \n",
       "0          13  \n",
       "1          32  \n",
       "2          27  \n",
       "3          10  \n",
       "4           1  "
      ]
     },
     "execution_count": 94,
     "metadata": {},
     "output_type": "execute_result"
    }
   ],
   "source": [
    "X_data.head()"
   ]
  },
  {
   "cell_type": "code",
   "execution_count": 95,
   "id": "f339d0c4",
   "metadata": {},
   "outputs": [
    {
     "data": {
      "text/html": [
       "<div>\n",
       "<style scoped>\n",
       "    .dataframe tbody tr th:only-of-type {\n",
       "        vertical-align: middle;\n",
       "    }\n",
       "\n",
       "    .dataframe tbody tr th {\n",
       "        vertical-align: top;\n",
       "    }\n",
       "\n",
       "    .dataframe thead th {\n",
       "        text-align: right;\n",
       "    }\n",
       "</style>\n",
       "<table border=\"1\" class=\"dataframe\">\n",
       "  <thead>\n",
       "    <tr style=\"text-align: right;\">\n",
       "      <th></th>\n",
       "      <th>count</th>\n",
       "    </tr>\n",
       "  </thead>\n",
       "  <tbody>\n",
       "    <tr>\n",
       "      <th>0</th>\n",
       "      <td>16</td>\n",
       "    </tr>\n",
       "    <tr>\n",
       "      <th>1</th>\n",
       "      <td>40</td>\n",
       "    </tr>\n",
       "    <tr>\n",
       "      <th>2</th>\n",
       "      <td>32</td>\n",
       "    </tr>\n",
       "    <tr>\n",
       "      <th>3</th>\n",
       "      <td>13</td>\n",
       "    </tr>\n",
       "    <tr>\n",
       "      <th>4</th>\n",
       "      <td>1</td>\n",
       "    </tr>\n",
       "  </tbody>\n",
       "</table>\n",
       "</div>"
      ],
      "text/plain": [
       "   count\n",
       "0     16\n",
       "1     40\n",
       "2     32\n",
       "3     13\n",
       "4      1"
      ]
     },
     "execution_count": 95,
     "metadata": {},
     "output_type": "execute_result"
    }
   ],
   "source": [
    "Y_data.head()"
   ]
  },
  {
   "cell_type": "code",
   "execution_count": null,
   "id": "9a857567",
   "metadata": {},
   "outputs": [],
   "source": []
  },
  {
   "cell_type": "code",
   "execution_count": null,
   "id": "db86d42e",
   "metadata": {},
   "outputs": [],
   "source": []
  },
  {
   "cell_type": "markdown",
   "id": "b68f870a",
   "metadata": {},
   "source": [
    "## 회귀모델 성능 평가"
   ]
  },
  {
   "cell_type": "code",
   "execution_count": 96,
   "id": "38de2511",
   "metadata": {},
   "outputs": [],
   "source": [
    "from sklearn.metrics import mean_absolute_error, mean_squared_error , r2_score"
   ]
  },
  {
   "cell_type": "code",
   "execution_count": null,
   "id": "76cf82d0",
   "metadata": {},
   "outputs": [],
   "source": [
    "r2 = r2_score(y_test, y_preds) # R2 : 0~1, 1에 가까울수록 설명력이 높은 것, 음수가 나오는 경우도 있는데, 그건 망한 거.\n",
    "mae = mean_absolute_error(true, pred)\n",
    "mse = mean_squared_error(y_test, y_preds) # MSE : 낮을 수록 좋겠지\n",
    "rmse = np.sqrt(mse) # RMSE : 얘도 당연히 낮을 수록 좋겠지\n",
    "def rmsle(y, pred): # RMSLE : 얘도 당연히 낮을 수록 좋겠지\n",
    "    log_y = np.log1p(y)\n",
    "    log_pred = np.log1p(pred)\n",
    "    squared_error = (log_y - log_pred) ** 2\n",
    "    rmsle = np.sqrt(np.mean(squared_error))\n",
    "    return rmsle\n",
    "\n",
    "def mape(y_test, y_preds): \n",
    "    y_test, y_preds = np.array(y_test), np.array(y_preds)\n",
    "    return np.mean(np.abs((y_test - y_preds) / y_test)) * 100\n",
    "\n",
    "#cross-validation시\n",
    "from sklearn.model_selection import cross_val_score\n",
    "\n",
    "neg_mse_scores = cross_val_score(model, X_data, y_target, scoring=\"neg_mean_squared_error\", cv = 5) # Negative MSE\n",
    "rmse_scores  = np.sqrt(-1 * neg_mse_scores) # RMSE\n",
    "avg_rmse = np.mean(rmse_scores) # RMSE 평균"
   ]
  },
  {
   "cell_type": "markdown",
   "id": "4e768a12",
   "metadata": {},
   "source": [
    "## 모델링"
   ]
  },
  {
   "cell_type": "code",
   "execution_count": 97,
   "id": "6350778f",
   "metadata": {},
   "outputs": [],
   "source": [
    "from sklearn.model_selection import train_test_split\n",
    "X_train, X_test, y_train, y_test=train_test_split(X_data, Y_data, test_size=0.3, random_state=0)"
   ]
  },
  {
   "cell_type": "code",
   "execution_count": 98,
   "id": "93c32238",
   "metadata": {},
   "outputs": [],
   "source": [
    "from sklearn.ensemble import RandomForestRegressor, GradientBoostingRegressor #랜덤포레스트회귀, GBM회귀\n",
    "from sklearn.tree import DecisionTreeRegressor #의사결정트리 회귀\n",
    "from xgboost import XGBRegressor #XGB회귀\n",
    "from lightgbm import LGBMRegressor #LGB회귀"
   ]
  },
  {
   "cell_type": "markdown",
   "id": "d9819710",
   "metadata": {},
   "source": [
    "### LinearRegression\n",
    " - 단순회귀분석 \n",
    " - 다중회귀분석 : 교호작용 고려하지 않을 때, 교호작용 고려할 때\n",
    " - 다항회귀분석(선형X)\n",
    " \n",
    " -- degree2 : [1,x1, x2, x1^2, x1x2, x2^2]\n",
    " -- degree3 : [1, x1.x2, x1^2, x1x2, x2^2, x1^3, x1^2x2, x1x2^2, x1^3]"
   ]
  },
  {
   "cell_type": "code",
   "execution_count": 99,
   "id": "67726b09",
   "metadata": {},
   "outputs": [
    {
     "name": "stdout",
     "output_type": "stream",
     "text": [
      "단순회귀분석의 R2: 0.10072465560431654\n",
      "단순회귀분석의 회귀계수: [-2.98726858]\n",
      "단순회귀분석의 절편: 376.4456083303636\n",
      "단순회귀분석 예측 결과: [137.46412205 167.33680783  77.71875048]\n",
      "다중회귀분석(교호X)의 R2: 0.9465649654278583\n",
      "다중회귀분석(교호X)의 회귀계수: [-0.60377511  1.14405745]\n",
      "다중회귀분석(교호X)의 절편: 50.97900881101202\n",
      "다중회귀분석(교호x)의 예측결과: [54.88797073]\n",
      "다중회귀분석(교호O)의 R2: 0.9481622901657941\n",
      "다중회귀분석(교호O)의 회귀계수: [ 0.         -0.22259444  1.300017   -0.00263385]\n",
      "다중회귀분석(교호O)의 절편: 26.452073831678064\n",
      "다중회귀분석(교호O)의 예측결과: [32.2448677]\n",
      "다항회귀분석의 R2: 0.9554554681038671\n",
      "다항회귀분석의 회귀계수: [ 0.00000000e+00 -9.42040662e-01  2.01592665e+00  3.04307286e-02\n",
      " -9.26852759e-03 -1.38496298e-03 -1.93720857e-04  7.83011864e-06\n",
      "  8.14860843e-06  4.82586262e-07]\n",
      "다항회귀분석의 절편: -20.39435424952316\n",
      "다항회귀분석의 예측결과: [-12.7150343]\n",
      "다중회귀분석의 MSE:0.000, RSMED:0.000, Variance score: 1.000\n",
      "다중회귀분석의 절편값: [-2.84217094e-14]\n",
      "다중회귀분석의 회귀계수값: [[-0.  0. -0. -0.  0. -0. -0.  1.  1.]]\n"
     ]
    }
   ],
   "source": [
    "from sklearn.linear_model import LinearRegression\n",
    "from sklearn.preprocessing import PolynomialFeatures\n",
    "\n",
    "X1=data['humidity'].values.reshape(-1,1) #단순회귀분석\n",
    "X2=data[['humidity', 'registered']] #다중회귀분석(교호X)\n",
    "poly_d1=PolynomialFeatures(degree=2, interaction_only=True) #다중회귀분석(교호)\n",
    "X3=poly_d1.fit_transform(data[['humidity', 'registered']])\n",
    "poly=PolynomialFeatures(degree=3) #다항회귀분석\n",
    "X4=poly.fit_transform(data[['humidity', 'registered']])\n",
    "\n",
    "Y=data['count']\n",
    "\n",
    "model_1=LinearRegression() #단순회귀분석\n",
    "model_1.fit(X1, Y)\n",
    "model_2=LinearRegression() #다중회귀분석: 교호X\n",
    "model_2.fit(X2, Y)\n",
    "model_3=LinearRegression() #다중회귀분석: 교호O\n",
    "model_3.fit(X3, Y3)\n",
    "model_4=LinearRegression() #다항회귀분석\n",
    "model_4.fit(X4, Y4)\n",
    "model_5=LinearRegression() #다중회귀분석(train)\n",
    "model_5.fit(X_train, y_train)\n",
    "\n",
    "y_preds=model_5.predict(X_test) #다중회귀분석(test)\n",
    "mse=mean_squared_error(y_test, y_preds)\n",
    "rmse=np.sqrt(mse)\n",
    "\n",
    "print('단순회귀분석의 R2:', model_1.score(X1, Y))\n",
    "print('단순회귀분석의 회귀계수:', model_1.coef_)\n",
    "print('단순회귀분석의 절편:', model_1.intercept_)\n",
    "print('단순회귀분석 예측 결과:',model_1.predict(np.array([80, 70,100]).reshape(-1,1)))\n",
    "print('다중회귀분석(교호X)의 R2:', model_2.score(X2, Y))\n",
    "print('다중회귀분석(교호X)의 회귀계수:', model_2.coef_)\n",
    "print('다중회귀분석(교호X)의 절편:', model_2.intercept_)\n",
    "print('다중회귀분석(교호x)의 예측결과:',model_2.predict(np.array([[3,5]])))\n",
    "print('다중회귀분석(교호O)의 R2:', model_3.score(X3, Y3))\n",
    "print('다중회귀분석(교호O)의 회귀계수:', model_3.coef_)\n",
    "print('다중회귀분석(교호O)의 절편:', model_3.intercept_)\n",
    "print('다중회귀분석(교호O)의 예측결과:',model_3.predict(np.array([[1,3,5,15]])))\n",
    "print('다항회귀분석의 R2:', model_4.score(X4, Y4))\n",
    "print('다항회귀분석의 회귀계수:', model_4.coef_)\n",
    "print('다항회귀분석의 절편:', model_4.intercept_)\n",
    "print('다항회귀분석의 예측결과:',model_4.predict(np.array([[1,3,5,15,3,2,1,6,8,10]])))\n",
    "\n",
    "print('다중회귀분석의 MSE:{0:.3f}, RSMED:{1:.3f}, Variance score: {2:.3f}'.format(mse, rmse, r2_score(y_test, y_preds)))\n",
    "print('다중회귀분석의 절편값:', model_5.intercept_)\n",
    "print('다중회귀분석의 회귀계수값:', np.round(model_5.coef_,1))\n",
    "\n",
    "#coeff=pd.Series(data=np.round(model_5.coef_,1), index=X_data.columns)\n",
    "#coeff.sort_values(ascending=False)"
   ]
  },
  {
   "cell_type": "markdown",
   "id": "55e62aa6",
   "metadata": {},
   "source": [
    "### RandomForest, GBM, DecisionTree, XGB, LGB Regressor"
   ]
  },
  {
   "cell_type": "code",
   "execution_count": 100,
   "id": "e3acc2d8",
   "metadata": {},
   "outputs": [
    {
     "name": "stdout",
     "output_type": "stream",
     "text": [
      "[197.57608696 287.27023945 287.27023945 ...  62.29659643  62.29659643\n",
      " 197.57608696] 2\n",
      "[243.014 238.31  228.897 ...  73.925  62.022 173.066] 2\n",
      "[238.69123899 240.20312116 228.62529738 ...  74.1916809   61.93211022\n",
      " 173.17783365] 2\n",
      "[242.04823  239.3691   229.64894  ...  74.458786  62.265854 172.03476 ] 2\n",
      "[241.18641452 237.97033808 228.98537474 ...  74.02694369  61.45814683\n",
      " 172.66099847] 2\n"
     ]
    }
   ],
   "source": [
    "from sklearn.ensemble import RandomForestRegressor, GradientBoostingRegressor #랜덤포레스트회귀, GBM회귀\n",
    "from sklearn.tree import DecisionTreeRegressor #의사결정회귀\n",
    "from xgboost import XGBRegressor #XGB회귀\n",
    "from lightgbm import LGBMRegressor #LGB회귀\n",
    "from sklearn.model_selection import cross_val_score\n",
    "\n",
    "rf_reg=RandomForestRegressor(random_state=0, n_estimators=1000)\n",
    "gb_reg=GradientBoostingRegressor(random_state=0, n_estimators=1000)\n",
    "dt_reg=DecisionTreeRegressor(random_state=0, max_depth=4)\n",
    "xgb_reg=XGBRegressor(n_estimators=1000)\n",
    "lgb_reg=LGBMRegressor(n_estimators=1000)\n",
    "\n",
    "dt_reg.fit(X_train,y_train)\n",
    "rf_reg.fit(X_train,y_train)\n",
    "gb_reg.fit(X_train,y_train)\n",
    "xgb_reg.fit(X_train,y_train)\n",
    "lgb_reg.fit(X_train,y_train)\n",
    "\n",
    "y_preds_dt=dt_reg.predict(X_test)\n",
    "y_preds_rf=rf_reg.predict(X_test)\n",
    "y_preds_gb=gb_reg.predict(X_test)\n",
    "y_preds_xgb=xgb_reg.predict(X_test)\n",
    "y_preds_lgb=lgb_reg.predict(X_test)\n",
    "\n",
    "print(y_preds_dt, round(2))\n",
    "print(y_preds_rf, round(2))\n",
    "print(y_preds_gb, round(2))\n",
    "print(y_preds_xgb, round(2))\n",
    "print(y_preds_lgb, round(2))"
   ]
  },
  {
   "cell_type": "code",
   "execution_count": null,
   "id": "427f72ed",
   "metadata": {},
   "outputs": [],
   "source": []
  },
  {
   "cell_type": "code",
   "execution_count": null,
   "id": "bc3a7630",
   "metadata": {},
   "outputs": [],
   "source": []
  },
  {
   "cell_type": "markdown",
   "id": "3bc2124d",
   "metadata": {},
   "source": [
    "### cross_val_score"
   ]
  },
  {
   "cell_type": "code",
   "execution_count": 101,
   "id": "41fed014",
   "metadata": {},
   "outputs": [
    {
     "name": "stdout",
     "output_type": "stream",
     "text": [
      "#### LinearRegression ####\n",
      "5교차검증의 평균 RMSE: 0.000\n",
      "#### RandomForestRegressor ####\n",
      "5교차검증의 평균 RMSE: 4.651\n",
      "#### GradientBoostingRegressor ####\n",
      "5교차검증의 평균 RMSE: 3.290\n",
      "#### DecisionTreeRegressor ####\n",
      "5교차검증의 평균 RMSE: 35.860\n",
      "#### XGBRegressor ####\n",
      "5교차검증의 평균 RMSE: 4.247\n",
      "#### LGBMRegressor ####\n",
      "5교차검증의 평균 RMSE: 5.171\n"
     ]
    }
   ],
   "source": [
    "def get_model_cv_prediction(model, X, Y):\n",
    "    neg_mse_scores=cross_val_score(model, X, Y, scoring='neg_mean_squared_error', cv=5)\n",
    "    rmse_scores=np.sqrt(-1*neg_mse_scores)\n",
    "    avg_rmse=np.mean(rmse_scores)\n",
    "    print('####', model.__class__.__name__, '####')\n",
    "    print('5교차검증의 평균 RMSE: {0:.3f}'.format(avg_rmse))\n",
    "\n",
    "X=X_data\n",
    "Y=data['count']    \n",
    "models=[lr_reg, rf_reg, gb_reg, dt_reg, xgb_reg, lgb_reg]\n",
    "for model in models:\n",
    "    get_model_cv_prediction(model, X, Y)"
   ]
  },
  {
   "cell_type": "code",
   "execution_count": null,
   "id": "e124b233",
   "metadata": {},
   "outputs": [],
   "source": []
  },
  {
   "cell_type": "code",
   "execution_count": null,
   "id": "e7b5b605",
   "metadata": {},
   "outputs": [],
   "source": [
    "from sklearn.linear_model import Ridge\n",
    "from sklearn.model_selection import corss_val_score\n",
    "ridge=Ridge(alpha=10)\n",
    "neg_mse_scores=cross_val_score(ridge, X_data, y_data, scoring='neg_mean_squared_error', cv=5)\n",
    "rmse_scores=np.sqrt(-1*neg_mse_scores)\n",
    "avg_rmse=np.mean(rmse_scores)\n",
    "\n",
    "alphas=[0, 0.1, 1, 10, 100]\n",
    "for alpha in alphas:\n",
    "    ridge=Ridge(alpha=alpha)\n",
    "    neg_mse_scores=cross_val_score(ridge, X_data, y_data, scoring='neg_mean_squared_error'm cv=5)\n",
    "    avg_rmse=np.mean(np.sqrt(-1*neg_mse_scores))\n",
    "    print('alpha{0}일 때 5folds의 평균 rmse: {1:.3f}'.format(alpha.avg_rmse))\n",
    "    \n",
    "\n"
   ]
  },
  {
   "cell_type": "code",
   "execution_count": null,
   "id": "38a7d9db",
   "metadata": {},
   "outputs": [],
   "source": []
  },
  {
   "cell_type": "code",
   "execution_count": null,
   "id": "f97f710d",
   "metadata": {},
   "outputs": [],
   "source": []
  },
  {
   "cell_type": "code",
   "execution_count": null,
   "id": "81486f97",
   "metadata": {},
   "outputs": [],
   "source": []
  },
  {
   "cell_type": "code",
   "execution_count": null,
   "id": "ae07f1cd",
   "metadata": {},
   "outputs": [],
   "source": []
  },
  {
   "cell_type": "code",
   "execution_count": null,
   "id": "86362d2f",
   "metadata": {},
   "outputs": [],
   "source": []
  },
  {
   "cell_type": "code",
   "execution_count": null,
   "id": "31851f1b",
   "metadata": {},
   "outputs": [],
   "source": []
  },
  {
   "cell_type": "code",
   "execution_count": null,
   "id": "9ee4ec3b",
   "metadata": {},
   "outputs": [],
   "source": []
  },
  {
   "cell_type": "code",
   "execution_count": null,
   "id": "72d030b1",
   "metadata": {},
   "outputs": [],
   "source": []
  },
  {
   "cell_type": "code",
   "execution_count": null,
   "id": "bfce94bb",
   "metadata": {},
   "outputs": [],
   "source": []
  },
  {
   "cell_type": "code",
   "execution_count": null,
   "id": "fad50d3b",
   "metadata": {},
   "outputs": [],
   "source": []
  },
  {
   "cell_type": "markdown",
   "id": "0856fafe",
   "metadata": {},
   "source": [
    "# 시각화"
   ]
  },
  {
   "cell_type": "code",
   "execution_count": 58,
   "id": "8bdaf477",
   "metadata": {},
   "outputs": [
    {
     "data": {
      "text/plain": [
       "<AxesSubplot:>"
      ]
     },
     "execution_count": 58,
     "metadata": {},
     "output_type": "execute_result"
    },
    {
     "data": {
      "image/png": "[encoded data removed]",
      "text/plain": [
       "<Figure size 432x288 with 1 Axes>"
      ]
     },
     "metadata": {
      "needs_background": "light"
     },
     "output_type": "display_data"
    }
   ],
   "source": [
    "#RandomForest의 Feature Importance 시각화\n",
    "import seaborn as sns\n",
    "%matplotlib inline\n",
    "rf_reg=RandomForestRegressor(n_estimators=1000)\n",
    "rf_reg.fit(X,Y)\n",
    "feature_series=pd.Series(data=rf_reg.feature_importances_, index=X.columns)\n",
    "feature_series=feature_series.sort_values(ascending=False)\n",
    "sns.barplot(x=feature_series, y=feature_series.index)"
   ]
  },
  {
   "cell_type": "code",
   "execution_count": null,
   "id": "4dcc8713",
   "metadata": {},
   "outputs": [],
   "source": []
  },
  {
   "cell_type": "code",
   "execution_count": null,
   "id": "14f3cfb0",
   "metadata": {},
   "outputs": [],
   "source": []
  },
  {
   "cell_type": "code",
   "execution_count": null,
   "id": "94fc052e",
   "metadata": {},
   "outputs": [],
   "source": []
  }
 ],
 "metadata": {
  "kernelspec": {
   "display_name": "Python 3",
   "language": "python",
   "name": "python3"
  },
  "language_info": {
   "codemirror_mode": {
    "name": "ipython",
    "version": 3
   },
   "file_extension": ".py",
   "mimetype": "text/x-python",
   "name": "python",
   "nbconvert_exporter": "python",
   "pygments_lexer": "ipython3",
   "version": "3.8.8"
  }
 },
 "nbformat": 4,
 "nbformat_minor": 5
}
