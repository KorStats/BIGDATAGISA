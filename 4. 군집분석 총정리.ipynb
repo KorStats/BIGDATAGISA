{
 "cells": [
  {
   "cell_type": "markdown",
   "id": "46434fb0",
   "metadata": {},
   "source": [
    "# 군집분석"
   ]
  },
  {
   "cell_type": "markdown",
   "id": "2e7bd80f",
   "metadata": {},
   "source": [
    "## 데이터 불러오기"
   ]
  },
  {
   "cell_type": "code",
   "execution_count": 1,
   "id": "048d7684",
   "metadata": {},
   "outputs": [],
   "source": [
    "import pandas as pd\n",
    "import numpy as np\n",
    "import warnings\n",
    "warnings.filterwarnings('ignore')\n",
    "\n",
    "data=pd.read_csv('D:\\Machine Learning\\ADP-master\\data/bikeshare.csv')\n",
    "\n",
    "# type별로 컬럼 분류\n",
    "col_id = []\n",
    "col_dt = ['datetime']\n",
    "col_cat = ['season']\n",
    "col_int = ['weather', 'humidity','casual','registered','count']\n",
    "col_float = ['temp','atemp','windspeed']\n",
    "col_bool = ['holiday','workingday']\n",
    "\n",
    "col_num = col_int + col_float\n",
    "data['datetime'] = pd.to_datetime(data['datetime'])\n",
    "data[col_cat]= data[col_cat].astype('str')\n",
    "data[col_int] = data[col_int].astype('int', errors='ignore')\n",
    "data[col_float] = data[col_float].astype('float')\n",
    "\n",
    "data.loc[data['count'] <= 150, 'y1'] = 0\n",
    "data.loc[(data['count']>150)&(data['count'] <= 300), 'y1'] = 1\n",
    "data.loc[(data['count']>300)&(data['count'] <= 450), 'y1'] = 2\n",
    "data.loc[data['count'] > 450, 'y1'] = 3\n",
    "Data=data[['holiday', 'workingday', 'weather', 'temp', 'atemp', 'humidity', 'windspeed', 'casual', 'registered', 'y1']]\n",
    "x_data=Data.drop(['y1'], axis=1, inplace=False)\n",
    "y_data=Data['y1']"
   ]
  },
  {
   "cell_type": "markdown",
   "id": "a47df57b",
   "metadata": {},
   "source": [
    "## Kmeans, MeanShift, GMM, DBSCAN"
   ]
  },
  {
   "cell_type": "code",
   "execution_count": 2,
   "id": "e809c642",
   "metadata": {},
   "outputs": [
    {
     "name": "stdout",
     "output_type": "stream",
     "text": [
      "Kmeans 결과: \n",
      " target  cluster_kmeans\n",
      "0.0     1                  826\n",
      "        3                 4745\n",
      "1.0     0                  195\n",
      "        1                 2638\n",
      "2.0     0                 1263\n",
      "        1                  110\n",
      "        2                    6\n",
      "3.0     0                  465\n",
      "        2                  638\n",
      "Name: registered, dtype: int64\n",
      "Meanshift 결과: \n",
      " target  cluster_MeanShift\n",
      "0.0     0                    5571\n",
      "1.0     0                    2833\n",
      "2.0     0                    1379\n",
      "3.0     0                    1103\n",
      "Name: registered, dtype: int64\n",
      "GMM 결과: \n",
      " target  cluster_GMM\n",
      "0.0     0               161\n",
      "        1              1711\n",
      "        2              3699\n",
      "1.0     0                70\n",
      "        1               653\n",
      "        2              2110\n",
      "2.0     0                52\n",
      "        1               474\n",
      "        2               853\n",
      "3.0     0                28\n",
      "        1               325\n",
      "        2               750\n",
      "Name: registered, dtype: int64\n",
      "DBSCAN 결과: \n",
      " target  cluster_dbscan\n",
      "0.0     -1                5571\n",
      "1.0     -1                2833\n",
      "2.0     -1                1379\n",
      "3.0     -1                1103\n",
      "Name: registered, dtype: int64\n"
     ]
    }
   ],
   "source": [
    "from sklearn.cluster import KMeans, MeanShift, estimate_bandwidth, DBSCAN, AgglomerativeClustering #Kmeans, MeanShift, DBSCAN\n",
    "from sklearn.mixture import GaussianMixture #GMM 군집화 : 여러개 가우시안 분포가 섞임, 확률 기반 군집화\n",
    "\n",
    "kmeans=KMeans(n_clusters=4, init='k-means++', max_iter=300, random_state=0) #Kmeans\n",
    "bandwidth=estimate_bandwidth(x_data, quantile=0.2) #MeanShift\n",
    "bw=round(bandwidth,3)\n",
    "meanshift=MeanShift(bandwidth=bw)\n",
    "gmm=GaussianMixture(n_components=3, random_state=0) #GMM\n",
    "dbscan=DBSCAN(eps=0.6, min_samples=8, metric='euclidean') #DBSCAN\n",
    "\n",
    "kmeans_labels=kmeans.fit_predict(x_data)\n",
    "meanshift_labels=meanshift.fit_predict(x_data)\n",
    "gmm_labels=gmm.fit_predict(x_data)\n",
    "dbscan_labels=dbscan.fit_predict(x_data)\n",
    "\n",
    "\n",
    "x_data['cluster_kmeans']=kmeans_labels #군집화 결과\n",
    "x_data['cluster_MeanShift']=meanshift_labels\n",
    "x_data['cluster_GMM']=gmm_labels\n",
    "x_data['cluster_dbscan']=dbscan_labels\n",
    "x_data['target']=Data[['y1']] #정답\n",
    "\n",
    "data_result_kmeans=x_data.groupby(['target', 'cluster_kmeans'])['registered'].count()\n",
    "data_result_MeanShift=x_data.groupby(['target', 'cluster_MeanShift'])['registered'].count()\n",
    "data_result_GMM=x_data.groupby(['target', 'cluster_GMM'])['registered'].count()\n",
    "data_result_DBSCAN=x_data.groupby(['target', 'cluster_dbscan'])['registered'].count()\n",
    "\n",
    "print('Kmeans 결과: \\n', data_result_kmeans)\n",
    "print('Meanshift 결과: \\n', data_result_MeanShift)\n",
    "print('GMM 결과: \\n', data_result_GMM)\n",
    "print('DBSCAN 결과: \\n', data_result_DBSCAN)"
   ]
  },
  {
   "cell_type": "markdown",
   "id": "ea67e6cc",
   "metadata": {},
   "source": [
    "## 군집분석 성능평가\n",
    "\n",
    " - elbow (엘보우)\n",
    " - silhouette_score (실루엣 분석)\n",
    " - adjusted_mutual_info_score (조정상호정보량)"
   ]
  },
  {
   "cell_type": "code",
   "execution_count": 3,
   "id": "4e79b4e2",
   "metadata": {},
   "outputs": [],
   "source": [
    "X_data=Data.drop(['y1'], axis=1, inplace=False)\n",
    "Y_data=Data['y1']\n",
    "\n",
    "from sklearn.cluster import KMeans\n",
    "kmeans=KMeans(n_clusters=4, init='k-means++', max_iter=300, random_state=0) #Kmeans\n",
    "kmeans_labels=kmeans.fit_predict(X_data)\n",
    "X_data['cluster']=kmeans_labels #군집화 결과\n",
    "X_data['target']=Data[['y1']] #정답"
   ]
  },
  {
   "cell_type": "code",
   "execution_count": 4,
   "id": "9e7e54da",
   "metadata": {},
   "outputs": [
    {
     "name": "stdout",
     "output_type": "stream",
     "text": [
      "데이터셋의 Silhouette Analysis Score: 0.460\n",
      "Silhouette_samples() return값의 shape (10886,)\n"
     ]
    },
    {
     "data": {
      "text/plain": [
       "0.6811403772213745"
      ]
     },
     "execution_count": 4,
     "metadata": {},
     "output_type": "execute_result"
    }
   ],
   "source": [
    "from sklearn.metrics import silhouette_samples, silhouette_score, adjusted_mutual_info_score\n",
    "import matplotlib.pyplot as plt\n",
    "\n",
    "def elbow(X):\n",
    "    sse=[]\n",
    "    for i in range(1, 11): #cluster가 1개~10개까지\n",
    "        km=KMeans(n_clusters=i, init='k-means++', random_state=0)\n",
    "        km.fit(X)\n",
    "        sse.append(km.inertia_) #km.inertia_ : 오차제곱합(SSE)\n",
    "    plt.plot(range(1,11), sse, marker='o')\n",
    "    plt.xlabel('n_clusters')\n",
    "    plt.ylabel('SSE')\n",
    "    plt.show()\n",
    "\n",
    "def sil(X):\n",
    "    si=[]\n",
    "    for i in range(2, 11): #cluster가 2개~10개까지\n",
    "        km=KMeans(n_clusters=i, init='k-means++', random_state=0)\n",
    "        km.fit(X)\n",
    "        si.append(silhouette_score(X, km.labels_))\n",
    "        print(np.round(si, 3))\n",
    "        \n",
    "average_score=silhouette_score(X_data, X_data['cluster']) #모든 데이터의 평균 실루엣 계수를 구함\n",
    "print('데이터셋의 Silhouette Analysis Score: {0:.3f}'.format(average_score))\n",
    "score_samples=silhouette_samples(X_data, X_data['cluster']) #모든 개별데이터의 실루엣 계수를 구함\n",
    "print('Silhouette_samples() return값의 shape', score_samples.shape)\n",
    "X_data['Silhouette_coeff']=score_samples\n",
    "X_data.groupby('cluster')['Silhouette_coeff'].mean() #cluster별 실루엣계수 출력\n",
    "adjusted_mutual_info_score(X_data['cluster'], Y_data) #adjusted_mutual_info_score 출력"
   ]
  },
  {
   "cell_type": "code",
   "execution_count": 5,
   "id": "9c357e56",
   "metadata": {},
   "outputs": [
    {
     "data": {
      "image/png": "[encoded data removed]",
      "text/plain": [
       "<Figure size 432x288 with 1 Axes>"
      ]
     },
     "metadata": {
      "needs_background": "light"
     },
     "output_type": "display_data"
    }
   ],
   "source": [
    "elbow(X_data)"
   ]
  },
  {
   "cell_type": "code",
   "execution_count": 6,
   "id": "e5e37fce",
   "metadata": {},
   "outputs": [
    {
     "name": "stdout",
     "output_type": "stream",
     "text": [
      "[0.578]\n",
      "[0.578 0.519]\n",
      "[0.578 0.519 0.46 ]\n",
      "[0.578 0.519 0.46  0.482]\n",
      "[0.578 0.519 0.46  0.482 0.436]\n",
      "[0.578 0.519 0.46  0.482 0.436 0.408]\n",
      "[0.578 0.519 0.46  0.482 0.436 0.408 0.41 ]\n",
      "[0.578 0.519 0.46  0.482 0.436 0.408 0.41  0.376]\n",
      "[0.578 0.519 0.46  0.482 0.436 0.408 0.41  0.376 0.333]\n"
     ]
    }
   ],
   "source": [
    "sil(X_data)"
   ]
  },
  {
   "cell_type": "markdown",
   "id": "55623fac",
   "metadata": {},
   "source": [
    "## 시각화"
   ]
  },
  {
   "cell_type": "code",
   "execution_count": 7,
   "id": "1162b56c",
   "metadata": {},
   "outputs": [
    {
     "data": {
      "image/png": "[encoded data removed]",
      "text/plain": [
       "<Figure size 432x288 with 1 Axes>"
      ]
     },
     "metadata": {
      "needs_background": "light"
     },
     "output_type": "display_data"
    }
   ],
   "source": [
    "from sklearn.decomposition import PCA\n",
    "pca=PCA(n_components=2) #시각화를 위해 2개의 변수로 줄여준다\n",
    "pca_data=pca.fit_transform(X_data)\n",
    "X_data['pca_x']=pca_data[:,0] # X_data를 'pca_x', 'pca_y' 2개의 변수로 축소\n",
    "X_data['pca_y']=pca_data[:,1]\n",
    "Marker0_ind=X_data[X_data['cluster']==0].index\n",
    "Marker1_ind=X_data[X_data['cluster']==1].index\n",
    "Marker2_ind=X_data[X_data['cluster']==2].index\n",
    "plt.scatter(x=X_data.loc[Marker0_ind, 'pca_x'], y=X_data.loc[Marker0_ind, 'pca_y'], marker='o')\n",
    "plt.scatter(x=X_data.loc[Marker1_ind, 'pca_x'], y=X_data.loc[Marker1_ind, 'pca_y'], marker='s')\n",
    "plt.scatter(x=X_data.loc[Marker2_ind, 'pca_x'], y=X_data.loc[Marker2_ind, 'pca_y'], marker='^')\n",
    "plt.xlabel('Pca 1'); plt.ylabel('Pca 2')\n",
    "plt.title('3 clusters Visualization by 2PCA Components')\n",
    "plt.show()"
   ]
  },
  {
   "cell_type": "markdown",
   "id": "2692ecfb",
   "metadata": {},
   "source": [
    "# 인공신경망"
   ]
  },
  {
   "cell_type": "markdown",
   "id": "e22d5761",
   "metadata": {},
   "source": [
    "## MLP Regressor "
   ]
  },
  {
   "cell_type": "code",
   "execution_count": 8,
   "id": "5d211c9a",
   "metadata": {},
   "outputs": [
    {
     "name": "stdout",
     "output_type": "stream",
     "text": [
      "예측값: [-5.13552128 80.94220874]\n",
      "R2:  0.2554764519808397\n",
      "최적 params:  <bound method BaseEstimator.get_params of MLPRegressor(max_iter=500, random_state=1)>\n"
     ]
    }
   ],
   "source": [
    "from sklearn.datasets import make_regression\n",
    "from sklearn.model_selection import train_test_split\n",
    "from sklearn.neural_network import MLPRegressor\n",
    "\n",
    "X, y=make_regression(n_samples=200, random_state=0)\n",
    "X_train, X_test, y_train, y_test=train_test_split(X, y, random_state=0)\n",
    "MLP_clf=MLPRegressor(random_state=1, max_iter=500)\n",
    "regr=MLP_clf.fit(X_train, y_train)\n",
    "print('예측값:',regr.predict(X_test[:2]))\n",
    "print('R2: ',regr.score(X_test, y_test))\n",
    "print('최적 params: ', regr.get_params)"
   ]
  },
  {
   "cell_type": "markdown",
   "id": "ffe4fd69",
   "metadata": {},
   "source": [
    "## MLP Classifier "
   ]
  },
  {
   "cell_type": "code",
   "execution_count": 9,
   "id": "8ce9e500",
   "metadata": {},
   "outputs": [],
   "source": [
    "import pandas as pd\n",
    "import numpy as np\n",
    "import warnings\n",
    "warnings.filterwarnings('ignore')\n",
    "\n",
    "data=pd.read_csv('D:\\Machine Learning\\ADP-master\\data/bikeshare.csv')\n",
    "\n",
    "# type별로 컬럼 분류\n",
    "col_id = []\n",
    "col_dt = ['datetime']\n",
    "col_cat = ['season']\n",
    "col_int = ['weather', 'humidity','casual','registered','count']\n",
    "col_float = ['temp','atemp','windspeed']\n",
    "col_bool = ['holiday','workingday']\n",
    "\n",
    "col_num = col_int + col_float\n",
    "data['datetime'] = pd.to_datetime(data['datetime'])\n",
    "data[col_cat]= data[col_cat].astype('str')\n",
    "data[col_int] = data[col_int].astype('int', errors='ignore')\n",
    "data[col_float] = data[col_float].astype('float')\n",
    "\n",
    "data.loc[data['count'] <= 150, 'y1'] = 0\n",
    "data.loc[(data['count']>150)&(data['count'] <= 300), 'y1'] = 1\n",
    "data.loc[(data['count']>300)&(data['count'] <= 450), 'y1'] = 2\n",
    "data.loc[data['count'] > 450, 'y1'] = 3\n",
    "Data=data[['holiday', 'workingday', 'weather', 'temp', 'atemp', 'humidity', 'windspeed', 'casual', 'registered', 'y1']]\n",
    "x_data=Data.drop(['y1'], axis=1, inplace=False)\n",
    "y_data=Data['y1']"
   ]
  },
  {
   "cell_type": "code",
   "execution_count": 10,
   "id": "2325ee42",
   "metadata": {},
   "outputs": [],
   "source": [
    "from sklearn.model_selection import train_test_split\n",
    "array=Data.values\n",
    "X=array[:, 0:9]\n",
    "Y=array[:,9]\n",
    "X_train, X_test, y_train, y_test=train_test_split(X, Y, test_size=0.2, random_state=15)"
   ]
  },
  {
   "cell_type": "code",
   "execution_count": 11,
   "id": "49bf712b",
   "metadata": {},
   "outputs": [
    {
     "data": {
      "text/plain": [
       "array([[  0.    ,   0.    ,   1.    , ...,   0.    ,   3.    ,  13.    ],\n",
       "       [  0.    ,   0.    ,   1.    , ...,   0.    ,   8.    ,  32.    ],\n",
       "       [  0.    ,   0.    ,   1.    , ...,   0.    ,   5.    ,  27.    ],\n",
       "       ...,\n",
       "       [  0.    ,   1.    ,   1.    , ...,  15.0013,   4.    , 164.    ],\n",
       "       [  0.    ,   1.    ,   1.    , ...,   6.0032,  12.    , 117.    ],\n",
       "       [  0.    ,   1.    ,   1.    , ...,   8.9981,   4.    ,  84.    ]])"
      ]
     },
     "execution_count": 11,
     "metadata": {},
     "output_type": "execute_result"
    }
   ],
   "source": [
    "X"
   ]
  },
  {
   "cell_type": "code",
   "execution_count": 12,
   "id": "d34319d5",
   "metadata": {},
   "outputs": [
    {
     "data": {
      "text/plain": [
       "array([0., 0., 0., ..., 1., 0., 0.])"
      ]
     },
     "execution_count": 12,
     "metadata": {},
     "output_type": "execute_result"
    }
   ],
   "source": [
    "Y"
   ]
  },
  {
   "cell_type": "code",
   "execution_count": 13,
   "id": "613b775c",
   "metadata": {},
   "outputs": [
    {
     "name": "stdout",
     "output_type": "stream",
     "text": [
      "Iteration 1, loss = 3.77395580\n",
      "Iteration 2, loss = 0.60993962\n",
      "Iteration 3, loss = 0.43463782\n",
      "Iteration 4, loss = 0.39918895\n",
      "Iteration 5, loss = 0.37220476\n",
      "Iteration 6, loss = 0.36359513\n",
      "Iteration 7, loss = 0.34847932\n",
      "Iteration 8, loss = 0.33571705\n",
      "Iteration 9, loss = 0.32658136\n",
      "Iteration 10, loss = 0.31936942\n",
      "Iteration 11, loss = 0.32770235\n",
      "Iteration 12, loss = 0.31773182\n",
      "Iteration 13, loss = 0.31155562\n",
      "Iteration 14, loss = 0.29835496\n",
      "Iteration 15, loss = 0.28872059\n",
      "Iteration 16, loss = 0.29672053\n",
      "Iteration 17, loss = 0.28705274\n",
      "Iteration 18, loss = 0.28320213\n",
      "Iteration 19, loss = 0.28042914\n",
      "Iteration 20, loss = 0.26984439\n",
      "Iteration 21, loss = 0.26612351\n",
      "Iteration 22, loss = 0.25855639\n",
      "Iteration 23, loss = 0.26201847\n",
      "Iteration 24, loss = 0.25507557\n",
      "Iteration 25, loss = 0.24114382\n",
      "Iteration 26, loss = 0.23926515\n",
      "Iteration 27, loss = 0.23529499\n",
      "Iteration 28, loss = 0.22423268\n",
      "Iteration 29, loss = 0.21902924\n",
      "Iteration 30, loss = 0.20511776\n",
      "Iteration 31, loss = 0.19634490\n",
      "Iteration 32, loss = 0.19739199\n",
      "Iteration 33, loss = 0.18388512\n",
      "Iteration 34, loss = 0.18099232\n",
      "Iteration 35, loss = 0.17541407\n",
      "Iteration 36, loss = 0.16420452\n",
      "Iteration 37, loss = 0.17405588\n",
      "Iteration 38, loss = 0.16049380\n",
      "Iteration 39, loss = 0.14715794\n",
      "Iteration 40, loss = 0.14490806\n",
      "Iteration 41, loss = 0.17504370\n",
      "Iteration 42, loss = 0.13547083\n",
      "Iteration 43, loss = 0.13463379\n",
      "Iteration 44, loss = 0.12056960\n",
      "Iteration 45, loss = 0.12751426\n",
      "Iteration 46, loss = 0.11849417\n",
      "Iteration 47, loss = 0.11657104\n",
      "Iteration 48, loss = 0.10786132\n",
      "Iteration 49, loss = 0.13110572\n",
      "Iteration 50, loss = 0.10637824\n",
      "Iteration 51, loss = 0.09896006\n",
      "Iteration 52, loss = 0.09366890\n",
      "Iteration 53, loss = 0.10807380\n",
      "Iteration 54, loss = 0.09116212\n",
      "Iteration 55, loss = 0.09695595\n",
      "Iteration 56, loss = 0.09945573\n",
      "Iteration 57, loss = 0.08984017\n",
      "Iteration 58, loss = 0.08637214\n",
      "Iteration 59, loss = 0.08784497\n",
      "Iteration 60, loss = 0.08644530\n",
      "Iteration 61, loss = 0.08585950\n",
      "Iteration 62, loss = 0.07905999\n",
      "Iteration 63, loss = 0.09534667\n",
      "Iteration 64, loss = 0.09869666\n",
      "Iteration 65, loss = 0.08887633\n",
      "Iteration 66, loss = 0.08772919\n",
      "Iteration 67, loss = 0.07333964\n",
      "Iteration 68, loss = 0.08123079\n",
      "Iteration 69, loss = 0.08297617\n",
      "Iteration 70, loss = 0.08460745\n",
      "Iteration 71, loss = 0.07405466\n",
      "Iteration 72, loss = 0.07419274\n",
      "Iteration 73, loss = 0.09134421\n",
      "Iteration 74, loss = 0.09185596\n",
      "Iteration 75, loss = 0.10454917\n",
      "Iteration 76, loss = 0.08273514\n",
      "Iteration 77, loss = 0.07030792\n",
      "Iteration 78, loss = 0.07033159\n",
      "Iteration 79, loss = 0.06858911\n",
      "Iteration 80, loss = 0.07000780\n",
      "Iteration 81, loss = 0.06702998\n",
      "Iteration 82, loss = 0.06284995\n",
      "Iteration 83, loss = 0.06392679\n",
      "Iteration 84, loss = 0.06536846\n",
      "Iteration 85, loss = 0.07121391\n",
      "Iteration 86, loss = 0.07768473\n",
      "Iteration 87, loss = 0.07449203\n",
      "Iteration 88, loss = 0.08648759\n",
      "Iteration 89, loss = 0.06072011\n",
      "Iteration 90, loss = 0.06013943\n",
      "Iteration 91, loss = 0.05751384\n",
      "Iteration 92, loss = 0.05744461\n",
      "Iteration 93, loss = 0.06200753\n",
      "Iteration 94, loss = 0.05812681\n",
      "Iteration 95, loss = 0.06030497\n",
      "Iteration 96, loss = 0.05488316\n",
      "Iteration 97, loss = 0.05776414\n",
      "Iteration 98, loss = 0.06952280\n",
      "Iteration 99, loss = 0.05536352\n",
      "Iteration 100, loss = 0.05881660\n",
      "Iteration 101, loss = 0.05362812\n",
      "Iteration 102, loss = 0.06571117\n",
      "Iteration 103, loss = 0.05133432\n",
      "Iteration 104, loss = 0.04753849\n",
      "Iteration 105, loss = 0.08668121\n",
      "Iteration 106, loss = 0.07331699\n",
      "Iteration 107, loss = 0.05758536\n",
      "Iteration 108, loss = 0.05438562\n",
      "Iteration 109, loss = 0.05566379\n",
      "Iteration 110, loss = 0.05205903\n",
      "Iteration 111, loss = 0.06887261\n",
      "Iteration 112, loss = 0.04779584\n",
      "Iteration 113, loss = 0.05599883\n",
      "Iteration 114, loss = 0.05362323\n",
      "Iteration 115, loss = 0.04908895\n",
      "Training loss did not improve more than tol=0.000100 for 10 consecutive epochs. Stopping.\n",
      "              precision    recall  f1-score   support\n",
      "\n",
      "         0.0       1.00      0.98      0.99      4455\n",
      "         1.0       0.95      0.91      0.93      2260\n",
      "         2.0       0.82      0.87      0.85      1105\n",
      "         3.0       0.86      1.00      0.92       888\n",
      "\n",
      "    accuracy                           0.95      8708\n",
      "   macro avg       0.91      0.94      0.92      8708\n",
      "weighted avg       0.95      0.95      0.95      8708\n",
      "\n",
      "              precision    recall  f1-score   support\n",
      "\n",
      "         0.0       1.00      0.98      0.99      1116\n",
      "         1.0       0.95      0.92      0.94       573\n",
      "         2.0       0.84      0.87      0.85       274\n",
      "         3.0       0.86      1.00      0.92       215\n",
      "\n",
      "    accuracy                           0.95      2178\n",
      "   macro avg       0.91      0.94      0.93      2178\n",
      "weighted avg       0.95      0.95      0.95      2178\n",
      "\n"
     ]
    }
   ],
   "source": [
    "from sklearn.neural_network import MLPClassifier\n",
    "clf=MLPClassifier(hidden_layer_sizes=(9,9), learning_rate_init=0.005, max_iter=300, random_state=0, verbose=1) #은닉층 9개, 9개로 2층\n",
    "clf.fit(X_train, y_train)\n",
    "y_train_hat=clf.predict(X_train)\n",
    "y_test_hat=clf.predict(X_test)\n",
    "\n",
    "from sklearn import metrics\n",
    "print(metrics.classification_report(y_train, y_train_hat))\n",
    "print(metrics.classification_report(y_test, y_test_hat))"
   ]
  },
  {
   "cell_type": "code",
   "execution_count": 14,
   "id": "444bbf55",
   "metadata": {},
   "outputs": [
    {
     "name": "stdout",
     "output_type": "stream",
     "text": [
      "Fitting 5 folds for each of 6 candidates, totalling 30 fits\n",
      "cv_results_:  {'mean_fit_time': array([8.03188324, 8.17088737, 7.19262953, 7.37895665, 7.71480041,\n",
      "       9.08316021]), 'std_fit_time': array([0.35861121, 0.64862354, 1.68122339, 1.14407896, 0.31249747,\n",
      "       0.66176482]), 'mean_score_time': array([0.00229087, 0.0023581 , 0.00240407, 0.00379362, 0.00190277,\n",
      "       0.00251541]), 'std_score_time': array([0.0009925 , 0.00044476, 0.00073656, 0.00250672, 0.00019608,\n",
      "       0.00100432]), 'param_activation': masked_array(data=['logistic', 'logistic', 'tanh', 'tanh', 'relu', 'relu'],\n",
      "             mask=[False, False, False, False, False, False],\n",
      "       fill_value='?',\n",
      "            dtype=object), 'param_hidden_layer_sizes': masked_array(data=[(3, 9), (9, 9), (3, 9), (9, 9), (3, 9), (9, 9)],\n",
      "             mask=[False, False, False, False, False, False],\n",
      "       fill_value='?',\n",
      "            dtype=object), 'params': [{'activation': 'logistic', 'hidden_layer_sizes': (3, 9)}, {'activation': 'logistic', 'hidden_layer_sizes': (9, 9)}, {'activation': 'tanh', 'hidden_layer_sizes': (3, 9)}, {'activation': 'tanh', 'hidden_layer_sizes': (9, 9)}, {'activation': 'relu', 'hidden_layer_sizes': (3, 9)}, {'activation': 'relu', 'hidden_layer_sizes': (9, 9)}], 'split0_test_score': array([0.97072331, 0.97588978, 0.84557979, 0.97301952, 0.96039036,\n",
      "       0.97014925]), 'split1_test_score': array([0.97187141, 0.97359357, 0.9902411 , 0.9793341 , 0.92652124,\n",
      "       0.97531573]), 'split2_test_score': array([0.98335247, 0.97818599, 0.78185993, 0.9804822 , 0.98622273,\n",
      "       0.97474168]), 'split3_test_score': array([0.97817346, 0.96553705, 0.88569787, 0.97645032, 0.94773119,\n",
      "       0.9672602 ]), 'split4_test_score': array([0.97587593, 0.97817346, 0.98449167, 0.92992533, 0.9902355 ,\n",
      "       0.97587593]), 'mean_test_score': array([0.97599932, 0.97427597, 0.89757407, 0.96784229, 0.9622202 ,\n",
      "       0.97266856]), 'std_test_score': array([0.00455383, 0.00468866, 0.0804687 , 0.01913336, 0.02386912,\n",
      "       0.00338201]), 'rank_test_score': array([1, 2, 6, 4, 5, 3])}\n",
      "best_params_:  {'activation': 'logistic', 'hidden_layer_sizes': (3, 9)}\n",
      "best_score_:  0.9759993168079102\n",
      "best_estimator_: MLPClassifier(activation='logistic', hidden_layer_sizes=(3, 9), max_iter=300)\n"
     ]
    }
   ],
   "source": [
    "from sklearn.model_selection import GridSearchCV\n",
    "params={'activation': ['logistic', 'tanh', 'relu'], 'hidden_layer_sizes':[(3,9), (9,9)]}\n",
    "gridsearch=GridSearchCV(estimator=MLPClassifier(max_iter=300), param_grid=params, cv=5, verbose=1, n_jobs=-1)\n",
    "gridsearch.fit(X_train, y_train)\n",
    "print('cv_results_: ',gridsearch.cv_results_)\n",
    "print('best_params_: ',gridsearch.best_params_)\n",
    "print('best_score_: ', gridsearch.best_score_)\n",
    "print('best_estimator_:',gridsearch.best_estimator_)\n",
    "Y_train_hat=gridsearch.predict(X_train)\n",
    "Y_test_hat=gridsearch.predict(X_test)"
   ]
  },
  {
   "cell_type": "code",
   "execution_count": 15,
   "id": "41c7af77",
   "metadata": {},
   "outputs": [
    {
     "name": "stdout",
     "output_type": "stream",
     "text": [
      "              precision    recall  f1-score   support\n",
      "\n",
      "         0.0       1.00      0.99      1.00      4455\n",
      "         1.0       0.98      0.99      0.98      2260\n",
      "         2.0       0.98      0.96      0.97      1105\n",
      "         3.0       0.97      0.98      0.98       888\n",
      "\n",
      "    accuracy                           0.99      8708\n",
      "   macro avg       0.98      0.98      0.98      8708\n",
      "weighted avg       0.99      0.99      0.99      8708\n",
      "\n"
     ]
    }
   ],
   "source": [
    "print(metrics.classification_report(y_train, Y_train_hat))"
   ]
  },
  {
   "cell_type": "code",
   "execution_count": 16,
   "id": "fde0d7fb",
   "metadata": {},
   "outputs": [
    {
     "name": "stdout",
     "output_type": "stream",
     "text": [
      "              precision    recall  f1-score   support\n",
      "\n",
      "         0.0       1.00      0.99      0.99      1116\n",
      "         1.0       0.98      0.99      0.98       573\n",
      "         2.0       0.97      0.97      0.97       274\n",
      "         3.0       0.98      0.98      0.98       215\n",
      "\n",
      "    accuracy                           0.99      2178\n",
      "   macro avg       0.98      0.98      0.98      2178\n",
      "weighted avg       0.99      0.99      0.99      2178\n",
      "\n"
     ]
    }
   ],
   "source": [
    "print(metrics.classification_report(y_test, Y_test_hat))"
   ]
  },
  {
   "cell_type": "code",
   "execution_count": null,
   "id": "5c550455",
   "metadata": {},
   "outputs": [],
   "source": []
  }
 ],
 "metadata": {
  "kernelspec": {
   "display_name": "Python 3",
   "language": "python",
   "name": "python3"
  },
  "language_info": {
   "codemirror_mode": {
    "name": "ipython",
    "version": 3
   },
   "file_extension": ".py",
   "mimetype": "text/x-python",
   "name": "python",
   "nbconvert_exporter": "python",
   "pygments_lexer": "ipython3",
   "version": "3.8.10"
  }
 },
 "nbformat": 4,
 "nbformat_minor": 5
}
